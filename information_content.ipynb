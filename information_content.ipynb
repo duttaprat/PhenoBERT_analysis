{
 "cells": [
  {
   "cell_type": "code",
   "execution_count": 1,
   "metadata": {},
   "outputs": [],
   "source": [
    "from __future__ import division\n",
    "import pandas as pd\n",
    "import numpy as np\n",
    "import operator\n",
    "import pickle"
   ]
  },
  {
   "cell_type": "code",
   "execution_count": 2,
   "metadata": {},
   "outputs": [],
   "source": [
    "from hpo_similarity import open_ontology\n",
    "graph, alt_ids, obsolete_ids = open_ontology()"
   ]
  },
  {
   "cell_type": "code",
   "execution_count": 3,
   "metadata": {},
   "outputs": [
    {
     "name": "stdout",
     "output_type": "stream",
     "text": [
      "Wall time: 5.7 s\n"
     ]
    }
   ],
   "source": [
    "%%time\n",
    "data = pd.read_excel('phenotype_original_OMIM.xlsx')\n",
    "g = data.groupby('#DatabaseID')\n",
    "G= g['HPO_ID'].apply(lambda s: s.tolist())\n",
    "OMIM_DICT = G.to_dict()"
   ]
  },
  {
   "cell_type": "code",
   "execution_count": 4,
   "metadata": {},
   "outputs": [
    {
     "name": "stdout",
     "output_type": "stream",
     "text": [
      "Wall time: 372 ms\n"
     ]
    }
   ],
   "source": [
    "%%time\n",
    "graph.tally_hpo_terms(OMIM_DICT)"
   ]
  },
  {
   "cell_type": "code",
   "execution_count": 5,
   "metadata": {},
   "outputs": [
    {
     "name": "stdout",
     "output_type": "stream",
     "text": [
      "7495\n"
     ]
    }
   ],
   "source": [
    "set_id = set(data[\"HPO_ID\"])\n",
    "print(len(set_id))"
   ]
  },
  {
   "cell_type": "code",
   "execution_count": 6,
   "metadata": {},
   "outputs": [
    {
     "name": "stdout",
     "output_type": "stream",
     "text": [
      "### HP:0002828 7801\n",
      "6.659422116594268\n",
      "\n",
      "\n",
      "\n",
      "10\n",
      "\n",
      "\n",
      "\n",
      "{'OMIM:611369', 'OMIM:618143', 'OMIM:616227', 'OMIM:300244', 'OMIM:305450', 'OMIM:605013', 'OMIM:306990', 'OMIM:301830', 'OMIM:614915', 'OMIM:218649'}\n"
     ]
    }
   ],
   "source": [
    "print (graph.calculate_information_content('HP:0002828'))\n",
    "print (\"\\n\\n\")\n",
    "print (graph.get_term_count('HP:0002828'))\n",
    "print (\"\\n\\n\")\n",
    "print (graph.get_ids_per_term('HP:0002828'))"
   ]
  },
  {
   "cell_type": "code",
   "execution_count": 7,
   "metadata": {
    "scrolled": false
   },
   "outputs": [
    {
     "name": "stdout",
     "output_type": "stream",
     "text": [
      "### HP:0001371 7801\n",
      "2.600704732015318\n",
      "\n",
      "\n",
      "\n",
      "579\n",
      "\n",
      "\n",
      "\n",
      "{'OMIM:615065', 'OMIM:218000', 'OMIM:194350', 'OMIM:612954', 'OMIM:130070', 'OMIM:275210', 'OMIM:608278', 'OMIM:614457', 'OMIM:156530', 'OMIM:175700', 'OMIM:300612', 'OMIM:222600', 'OMIM:617468', 'OMIM:253900', 'OMIM:126050', 'OMIM:147791', 'OMIM:608423', 'OMIM:157900', 'OMIM:208155', 'OMIM:158300', 'OMIM:208910', 'OMIM:230000', 'OMIM:136760', 'OMIM:615663', 'OMIM:604320', 'OMIM:609456', 'OMIM:601559', 'OMIM:616737', 'OMIM:108120', 'OMIM:126900', 'OMIM:608931', 'OMIM:605637', 'OMIM:618404', 'OMIM:228600', 'OMIM:616006', 'OMIM:187370', 'OMIM:616248', 'OMIM:277720', 'OMIM:301830', 'OMIM:310300', 'OMIM:605039', 'OMIM:617072', 'OMIM:233805', 'OMIM:307000', 'OMIM:614498', 'OMIM:212360', 'OMIM:618323', 'OMIM:260150', 'OMIM:255995', 'OMIM:617729', 'OMIM:618397', 'OMIM:617013', 'OMIM:143095', 'OMIM:617301', 'OMIM:212065', 'OMIM:208250', 'OMIM:618493', 'OMIM:308050', 'OMIM:253800', 'OMIM:617393', 'OMIM:208081', 'OMIM:615325', 'OMIM:259775', 'OMIM:207410', 'OMIM:255800', 'OMIM:617201', 'OMIM:147800', 'OMIM:617481', 'OMIM:616531', 'OMIM:301039', 'OMIM:608840', 'OMIM:300868', 'OMIM:210600', 'OMIM:608836', 'OMIM:617239', 'OMIM:618761', 'OMIM:228800', 'OMIM:618393', 'OMIM:210710', 'OMIM:614438', 'OMIM:615368', 'OMIM:215100', 'OMIM:210000', 'OMIM:616266', 'OMIM:614399', 'OMIM:248700', 'OMIM:608540', 'OMIM:201750', 'OMIM:617303', 'OMIM:617403', 'OMIM:611105', 'OMIM:300696', 'OMIM:610168', 'OMIM:177050', 'OMIM:228020', 'OMIM:314580', 'OMIM:277590', 'OMIM:616286', 'OMIM:184900', 'OMIM:616503', 'OMIM:162370', 'OMIM:249600', 'OMIM:612313', 'OMIM:616342', 'OMIM:614815', 'OMIM:614866', 'OMIM:228520', 'OMIM:618635', 'OMIM:618143', 'OMIM:171000', 'OMIM:259450', 'OMIM:236670', 'OMIM:616881', 'OMIM:616228', 'OMIM:607872', 'OMIM:269000', 'OMIM:616867', 'OMIM:148210', 'OMIM:613723', 'OMIM:606242', 'OMIM:608013', 'OMIM:608257', 'OMIM:309500', 'OMIM:601088', 'OMIM:108145', 'OMIM:618006', 'OMIM:268650', 'OMIM:264180', 'OMIM:616683', 'OMIM:225280', 'OMIM:618524', 'OMIM:617864', 'OMIM:602771', 'OMIM:201550', 'OMIM:618291', 'OMIM:186000', 'OMIM:613154', 'OMIM:212540', 'OMIM:231050', 'OMIM:117650', 'OMIM:607155', 'OMIM:224800', 'OMIM:607596', 'OMIM:301815', 'OMIM:252011', 'OMIM:616549', 'OMIM:618076', 'OMIM:206920', 'OMIM:615095', 'OMIM:613795', 'OMIM:302800', 'OMIM:310200', 'OMIM:260660', 'OMIM:181350', 'OMIM:609162', 'OMIM:617762', 'OMIM:194050', 'OMIM:616516', 'OMIM:618529', 'OMIM:118230', 'OMIM:114300', 'OMIM:616287', 'OMIM:613150', 'OMIM:304340', 'OMIM:601561', 'OMIM:201000', 'OMIM:164200', 'OMIM:618156', 'OMIM:210730', 'OMIM:223800', 'OMIM:253310', 'OMIM:607598', 'OMIM:278760', 'OMIM:608837', 'OMIM:226730', 'OMIM:616897', 'OMIM:616570', 'OMIM:617822', 'OMIM:306990', 'OMIM:263210', 'OMIM:300280', 'OMIM:616852', 'OMIM:613404', 'OMIM:215150', 'OMIM:614915', 'OMIM:609285', 'OMIM:224400', 'OMIM:614230', 'OMIM:310400', 'OMIM:618484', 'OMIM:610015', 'OMIM:616326', 'OMIM:300799', 'OMIM:611091', 'OMIM:605275', 'OMIM:615547', 'OMIM:608099', 'OMIM:226600', 'OMIM:258650', 'OMIM:611228', 'OMIM:617562', 'OMIM:618414', 'OMIM:616330', 'OMIM:604802', 'OMIM:211960', 'OMIM:612079', 'OMIM:139750', 'OMIM:600627', 'OMIM:612138', 'OMIM:601160', 'OMIM:615834', 'OMIM:609308', 'OMIM:100050', 'OMIM:600000', 'OMIM:122850', 'OMIM:618651', 'OMIM:300243', 'OMIM:618658', 'OMIM:614255', 'OMIM:616395', 'OMIM:252940', 'OMIM:300004', 'OMIM:259050', 'OMIM:600638', 'OMIM:229230', 'OMIM:618175', 'OMIM:616313', 'OMIM:160565', 'OMIM:618469', 'OMIM:616651', 'OMIM:600325', 'OMIM:613744', 'OMIM:612540', 'OMIM:610099', 'OMIM:618766', 'OMIM:600920', 'OMIM:617537', 'OMIM:615919', 'OMIM:300373', 'OMIM:618435', 'OMIM:614462', 'OMIM:300717', 'OMIM:201020', 'OMIM:612350', 'OMIM:180849', 'OMIM:300886', 'OMIM:612233', 'OMIM:618237', 'OMIM:615490', 'OMIM:218649', 'OMIM:305620', 'OMIM:312920', 'OMIM:224690', 'OMIM:113450', 'OMIM:618005', 'OMIM:256730', 'OMIM:613205', 'OMIM:608093', 'OMIM:615043', 'OMIM:601701', 'OMIM:609128', 'OMIM:208050', 'OMIM:616505', 'OMIM:603511', 'OMIM:616354', 'OMIM:300244', 'OMIM:259780', 'OMIM:609284', 'OMIM:607932', 'OMIM:617193', 'OMIM:618815', 'OMIM:618266', 'OMIM:610474', 'OMIM:309900', 'OMIM:168400', 'OMIM:214150', 'OMIM:616668', 'OMIM:249710', 'OMIM:113000', 'OMIM:254210', 'OMIM:158810', 'OMIM:617452', 'OMIM:253700', 'OMIM:217990', 'OMIM:221810', 'OMIM:309800', 'OMIM:208100', 'OMIM:114150', 'OMIM:610758', 'OMIM:114100', 'OMIM:618346', 'OMIM:160150', 'OMIM:613869', 'OMIM:255200', 'OMIM:613458', 'OMIM:614335', 'OMIM:614262', 'OMIM:601353', 'OMIM:300695', 'OMIM:601668', 'OMIM:225753', 'OMIM:613800', 'OMIM:618343', 'OMIM:615851', 'OMIM:615249', 'OMIM:300523', 'OMIM:117000', 'OMIM:616866', 'OMIM:271665', 'OMIM:166700', 'OMIM:251300', 'OMIM:617977', 'OMIM:613710', 'OMIM:618186', 'OMIM:154700', 'OMIM:214980', 'OMIM:613604', 'OMIM:618786', 'OMIM:305450', 'OMIM:609180', 'OMIM:609220', 'OMIM:618324', 'OMIM:614407', 'OMIM:606631', 'OMIM:616263', 'OMIM:617402', 'OMIM:300232', 'OMIM:254940', 'OMIM:618198', 'OMIM:611961', 'OMIM:615731', 'OMIM:613385', 'OMIM:211930', 'OMIM:251240', 'OMIM:618379', 'OMIM:617106', 'OMIM:608149', 'OMIM:617146', 'OMIM:602782', 'OMIM:618388', 'OMIM:301041', 'OMIM:608612', 'OMIM:236500', 'OMIM:617591', 'OMIM:300718', 'OMIM:208158', 'OMIM:226650', 'OMIM:611962', 'OMIM:612713', 'OMIM:617055', 'OMIM:617527', 'OMIM:247200', 'OMIM:186550', 'OMIM:178110', 'OMIM:151050', 'OMIM:211920', 'OMIM:609192', 'OMIM:616204', 'OMIM:268300', 'OMIM:602249', 'OMIM:607196', 'OMIM:247990', 'OMIM:617396', 'OMIM:616081', 'OMIM:616809', 'OMIM:618332', 'OMIM:253290', 'OMIM:616222', 'OMIM:618523', 'OMIM:615381', 'OMIM:614961', 'OMIM:614594', 'OMIM:264010', 'OMIM:609260', 'OMIM:615348', 'OMIM:600416', 'OMIM:300158', 'OMIM:217150', 'OMIM:616145', 'OMIM:271225', 'OMIM:182212', 'OMIM:617143', 'OMIM:602484', 'OMIM:255310', 'OMIM:611588', 'OMIM:602471', 'OMIM:617140', 'OMIM:272430', 'OMIM:259610', 'OMIM:264090', 'OMIM:617105', 'OMIM:615330', 'OMIM:253600', 'OMIM:613811', 'OMIM:610713', 'OMIM:186300', 'OMIM:607539', 'OMIM:609541', 'OMIM:148820', 'OMIM:604801', 'OMIM:607225', 'OMIM:108200', 'OMIM:254090', 'OMIM:193700', 'OMIM:616920', 'OMIM:610756', 'OMIM:608104', 'OMIM:309000', 'OMIM:616471', 'OMIM:203550', 'OMIM:616733', 'OMIM:609200', 'OMIM:601803', 'OMIM:606170', 'OMIM:263700', 'OMIM:311450', 'OMIM:605355', 'OMIM:615553', 'OMIM:618285', 'OMIM:609628', 'OMIM:201470', 'OMIM:260600', 'OMIM:161800', 'OMIM:618578', 'OMIM:300989', 'OMIM:617333', 'OMIM:309520', 'OMIM:156400', 'OMIM:300963', 'OMIM:248370', 'OMIM:208080', 'OMIM:618440', 'OMIM:616894', 'OMIM:614833', 'OMIM:611369', 'OMIM:601560', 'OMIM:618201', 'OMIM:259600', 'OMIM:616801', 'OMIM:613155', 'OMIM:208085', 'OMIM:129200', 'OMIM:616200', 'OMIM:603387', 'OMIM:614066', 'OMIM:216800', 'OMIM:615539', 'OMIM:611067', 'OMIM:618622', 'OMIM:231080', 'OMIM:280000', 'OMIM:603543', 'OMIM:601016', 'OMIM:232500', 'OMIM:186580', 'OMIM:246560', 'OMIM:242300', 'OMIM:614098', 'OMIM:617114', 'OMIM:614678', 'OMIM:256030', 'OMIM:616007', 'OMIM:275900', 'OMIM:258865', 'OMIM:245600', 'OMIM:601675', 'OMIM:214110', 'OMIM:618298', 'OMIM:617360', 'OMIM:615282', 'OMIM:300884', 'OMIM:608799', 'OMIM:600302', 'OMIM:616681', 'OMIM:248800', 'OMIM:118650', 'OMIM:615351', 'OMIM:245160', 'OMIM:601809', 'OMIM:613818', 'OMIM:605013', 'OMIM:253220', 'OMIM:113620', 'OMIM:606612', 'OMIM:121050', 'OMIM:235510', 'OMIM:616470', 'OMIM:617519', 'OMIM:309590', 'OMIM:179613', 'OMIM:313420', 'OMIM:618268', 'OMIM:607014', 'OMIM:611929', 'OMIM:618460', 'OMIM:618162', 'OMIM:611209', 'OMIM:615170', 'OMIM:617602', 'OMIM:265000', 'OMIM:600175', 'OMIM:276820', 'OMIM:310440', 'OMIM:615290', 'OMIM:225790', 'OMIM:256520', 'OMIM:312150', 'OMIM:617561', 'OMIM:208230', 'OMIM:272950', 'OMIM:618436', 'OMIM:227330', 'OMIM:614067', 'OMIM:218040', 'OMIM:613327', 'OMIM:611705', 'OMIM:200980', 'OMIM:613776', 'OMIM:256040', 'OMIM:300998', 'OMIM:611890', 'OMIM:139210', 'OMIM:244300', 'OMIM:613330', 'OMIM:615491', 'OMIM:618363', 'OMIM:300166', 'OMIM:229850', 'OMIM:615883', 'OMIM:121070', 'OMIM:122470', 'OMIM:614222', 'OMIM:616227', 'OMIM:271640', 'OMIM:200700', 'OMIM:617664', 'OMIM:615042', 'OMIM:611717', 'OMIM:614976', 'OMIM:114200', 'OMIM:601680', 'OMIM:617599', 'OMIM:211910', 'OMIM:222765', 'OMIM:614225', 'OMIM:617137', 'OMIM:614008', 'OMIM:612513', 'OMIM:618065', 'OMIM:309510', 'OMIM:618804', 'OMIM:615959', 'OMIM:612952', 'OMIM:607855', 'OMIM:608156', 'OMIM:616165', 'OMIM:618011', 'OMIM:618453', 'OMIM:613156', 'OMIM:602398', 'OMIM:601776', 'OMIM:601110', 'OMIM:156550', 'OMIM:612394', 'OMIM:613870', 'OMIM:607684', 'OMIM:231070', 'OMIM:612674', 'OMIM:609033', 'OMIM:609945', 'OMIM:613162', 'OMIM:614653', 'OMIM:255600', 'OMIM:603513', 'OMIM:618265', 'OMIM:208150', 'OMIM:616258', 'OMIM:607706', 'OMIM:608930'}\n"
     ]
    }
   ],
   "source": [
    "print (graph.calculate_information_content('HP:0001371'))\n",
    "print (\"\\n\\n\")\n",
    "print (graph.get_term_count('HP:0001371'))\n",
    "print (\"\\n\\n\")\n",
    "print (graph.get_ids_per_term('HP:0001371'))"
   ]
  },
  {
   "cell_type": "code",
   "execution_count": 8,
   "metadata": {},
   "outputs": [
    {
     "name": "stdout",
     "output_type": "stream",
     "text": [
      "Ancestors : {'HP:0000924', 'HP:0011842', 'HP:0100261', 'HP:0003549', 'HP:0011843', 'HP:0000118', 'HP:0003011', 'HP:0001371', 'HP:0011729', 'HP:0000001', 'HP:0011805'}\n",
      "### HP:0000924 7801\n",
      "### HP:0011842 7801\n",
      "### HP:0100261 7801\n",
      "### HP:0003549 7801\n",
      "### HP:0011843 7801\n",
      "### HP:0000118 7801\n",
      "### HP:0003011 7801\n",
      "### HP:0001371 7801\n",
      "### HP:0011729 7801\n",
      "### HP:0000001 7801\n",
      "### HP:0011805 7801\n",
      "IC values of all ancestors : [0.7974969408412705, 0.8524815498354402, 2.590395362356457, 2.006414601192016, 1.8595078538136642, 0.0005128862787132188, 1.1122934519834433, 2.600704732015318, 2.0847111380908845, -0.0, 1.7156391294858522]\n",
      "2.600704732015318\n"
     ]
    }
   ],
   "source": [
    "print (graph.get_most_informative_ic('HP:0001371','HP:0002828'))"
   ]
  },
  {
   "cell_type": "code",
   "execution_count": 9,
   "metadata": {},
   "outputs": [],
   "source": [
    "def lin_score(term1, term2):\n",
    "    a = graph.calculate_information_content(term1)\n",
    "    b = graph.calculate_information_content(term2)\n",
    "    c = 2*graph.get_most_informative_ic(term1,term2)\n",
    "    print (\"##@@\",a,b,c)\n",
    "    try:\n",
    "        lin_score = c/(b + a)\n",
    "    except ZeroDivisionError:\n",
    "        lin_score = 0\n",
    "    return lin_score"
   ]
  },
  {
   "cell_type": "code",
   "execution_count": 10,
   "metadata": {},
   "outputs": [
    {
     "name": "stdout",
     "output_type": "stream",
     "text": [
      "### HP:0001371 7801\n",
      "### HP:0002828 7801\n",
      "##@@ 2.600704732015318 6.659422116594268 5.201409464030636\n"
     ]
    },
    {
     "data": {
      "text/plain": [
       "0.5616995910603138"
      ]
     },
     "execution_count": 10,
     "metadata": {},
     "output_type": "execute_result"
    }
   ],
   "source": [
    "lin_score('HP:0001371','HP:0002828')"
   ]
  },
  {
   "cell_type": "code",
   "execution_count": 11,
   "metadata": {},
   "outputs": [
    {
     "name": "stdout",
     "output_type": "stream",
     "text": [
      "### HP:0005781 7801\n",
      "7.863394920920204\n",
      "\n",
      "\n",
      "\n",
      "3\n",
      "\n",
      "\n",
      "\n",
      "{'OMIM:608278', 'OMIM:617527', 'OMIM:300886'}\n"
     ]
    }
   ],
   "source": [
    "print (graph.calculate_information_content('HP:0005781'))\n",
    "print (\"\\n\\n\")\n",
    "print (graph.get_term_count('HP:0005781'))\n",
    "print (\"\\n\\n\")\n",
    "print (graph.get_ids_per_term('HP:0005781'))"
   ]
  },
  {
   "cell_type": "code",
   "execution_count": 12,
   "metadata": {},
   "outputs": [
    {
     "name": "stdout",
     "output_type": "stream",
     "text": [
      "Ancestors : {'HP:0000924', 'HP:0011842', 'HP:0100261', 'HP:0003549', 'HP:0011843', 'HP:0000118', 'HP:0003011', 'HP:0001371', 'HP:0011729', 'HP:0000001', 'HP:0011805'}\n",
      "### HP:0000924 7801\n",
      "### HP:0011842 7801\n",
      "### HP:0100261 7801\n",
      "### HP:0003549 7801\n",
      "### HP:0011843 7801\n",
      "### HP:0000118 7801\n",
      "### HP:0003011 7801\n",
      "### HP:0001371 7801\n",
      "### HP:0011729 7801\n",
      "### HP:0000001 7801\n",
      "### HP:0011805 7801\n",
      "IC values of all ancestors : [0.7974969408412705, 0.8524815498354402, 2.590395362356457, 2.006414601192016, 1.8595078538136642, 0.0005128862787132188, 1.1122934519834433, 2.600704732015318, 2.0847111380908845, -0.0, 1.7156391294858522]\n",
      "2.600704732015318\n"
     ]
    }
   ],
   "source": [
    "print (graph.get_most_informative_ic('HP:0001371','HP:0005781'))"
   ]
  },
  {
   "cell_type": "code",
   "execution_count": 13,
   "metadata": {},
   "outputs": [
    {
     "name": "stdout",
     "output_type": "stream",
     "text": [
      "### HP:0001371 7801\n",
      "### HP:0005781 7801\n",
      "##@@ 2.600704732015318 7.863394920920204 5.201409464030636\n"
     ]
    },
    {
     "data": {
      "text/plain": [
       "0.4970718586927324"
      ]
     },
     "execution_count": 13,
     "metadata": {},
     "output_type": "execute_result"
    }
   ],
   "source": [
    "lin_score('HP:0001371','HP:0005781')"
   ]
  },
  {
   "cell_type": "markdown",
   "metadata": {},
   "source": [
    "## Lin Score"
   ]
  },
  {
   "cell_type": "code",
   "execution_count": 14,
   "metadata": {},
   "outputs": [
    {
     "name": "stdout",
     "output_type": "stream",
     "text": [
      "### HP:0002828 7801\n",
      "### HP:0005781 7801\n",
      "Ancestors : {'HP:0000924', 'HP:0011842', 'HP:0100261', 'HP:0003549', 'HP:0011843', 'HP:0000118', 'HP:0001371', 'HP:0003011', 'HP:0011729', 'HP:0000001', 'HP:0011805'}\n",
      "### HP:0000924 7801\n",
      "### HP:0011842 7801\n",
      "### HP:0100261 7801\n",
      "### HP:0003549 7801\n",
      "### HP:0011843 7801\n",
      "### HP:0000118 7801\n",
      "### HP:0001371 7801\n",
      "### HP:0003011 7801\n",
      "### HP:0011729 7801\n",
      "### HP:0000001 7801\n",
      "### HP:0011805 7801\n",
      "IC values of all ancestors : [0.7974969408412705, 0.8524815498354402, 2.590395362356457, 2.006414601192016, 1.8595078538136642, 0.0005128862787132188, 2.600704732015318, 1.1122934519834433, 2.0847111380908845, -0.0, 1.7156391294858522]\n",
      "##@@ 6.659422116594268 7.863394920920204 5.201409464030636\n"
     ]
    },
    {
     "data": {
      "text/plain": [
       "0.35815430646786134"
      ]
     },
     "execution_count": 14,
     "metadata": {},
     "output_type": "execute_result"
    }
   ],
   "source": [
    "lin_score('HP:0002828','HP:0005781')"
   ]
  },
  {
   "cell_type": "code",
   "execution_count": null,
   "metadata": {},
   "outputs": [],
   "source": []
  }
 ],
 "metadata": {
  "kernelspec": {
   "display_name": "Python 3",
   "language": "python",
   "name": "python3"
  },
  "language_info": {
   "codemirror_mode": {
    "name": "ipython",
    "version": 3
   },
   "file_extension": ".py",
   "mimetype": "text/x-python",
   "name": "python",
   "nbconvert_exporter": "python",
   "pygments_lexer": "ipython3",
   "version": "3.8.3"
  }
 },
 "nbformat": 4,
 "nbformat_minor": 4
}
