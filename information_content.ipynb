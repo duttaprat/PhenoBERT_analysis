{
 "cells": [
  {
   "cell_type": "code",
   "execution_count": 1,
   "metadata": {},
   "outputs": [],
   "source": [
    "from __future__ import division\n",
    "import pandas as pd\n",
    "import numpy as np\n",
    "import operator\n",
    "import pickle"
   ]
  },
  {
   "cell_type": "code",
   "execution_count": 2,
   "metadata": {},
   "outputs": [],
   "source": [
    "from hpo_similarity import open_ontology\n",
    "graph, alt_ids, obsolete_ids = open_ontology()"
   ]
  },
  {
   "cell_type": "code",
   "execution_count": null,
   "metadata": {},
   "outputs": [],
   "source": [
    "%%time\n",
    "data = pd.read_excel('phenotype_original.xlsx')\n",
    "g = data.groupby('#DatabaseID')\n",
    "G= g['HPO_ID'].apply(lambda s: s.tolist())\n",
    "OMIM_DICT = G.to_dict()"
   ]
  },
  {
   "cell_type": "code",
   "execution_count": null,
   "metadata": {},
   "outputs": [],
   "source": [
    "%%time\n",
    "graph.tally_hpo_terms(OMIM_DICT)"
   ]
  },
  {
   "cell_type": "code",
   "execution_count": null,
   "metadata": {},
   "outputs": [],
   "source": [
    "set_id = set(data[\"HPO_ID\"])\n",
    "print(len(set_id))"
   ]
  },
  {
   "cell_type": "code",
   "execution_count": null,
   "metadata": {},
   "outputs": [],
   "source": [
    "print (graph.calculate_information_content('HP:0002828'))\n",
    "print (\"\\n\\n\")\n",
    "print (graph.get_term_count('HP:0002828'))\n",
    "print (\"\\n\\n\")\n",
    "print (graph.get_ids_per_term('HP:0002828'))"
   ]
  },
  {
   "cell_type": "code",
   "execution_count": null,
   "metadata": {},
   "outputs": [],
   "source": [
    "print (graph.calculate_information_content('HP:0001371'))\n",
    "print (\"\\n\\n\")\n",
    "print (graph.get_term_count('HP:0001371'))\n",
    "print (\"\\n\\n\")\n",
    "print (graph.get_ids_per_term('HP:0001371'))"
   ]
  },
  {
   "cell_type": "code",
   "execution_count": null,
   "metadata": {},
   "outputs": [],
   "source": [
    "print (graph.get_most_informative_ic('HP:0001371','HP:0002828'))"
   ]
  },
  {
   "cell_type": "code",
   "execution_count": null,
   "metadata": {},
   "outputs": [],
   "source": [
    "def lin_score(term1, term2):\n",
    "    a = graph.calculate_information_content(term1)\n",
    "    b = graph.calculate_information_content(term2)\n",
    "    c = 2*graph.get_most_informative_ic(term1,term2)\n",
    "    print (\"##@@\",a,b,c)\n",
    "    try:\n",
    "        lin_score = c/(b + a)\n",
    "    except ZeroDivisionError:\n",
    "        lin_score = 0\n",
    "    return lin_score"
   ]
  },
  {
   "cell_type": "code",
   "execution_count": null,
   "metadata": {},
   "outputs": [],
   "source": [
    "lin_score('HP:0001371','HP:0002828')"
   ]
  },
  {
   "cell_type": "code",
   "execution_count": null,
   "metadata": {},
   "outputs": [],
   "source": [
    "print (graph.calculate_information_content('HP:0005781'))\n",
    "print (\"\\n\\n\")\n",
    "print (graph.get_term_count('HP:0005781'))\n",
    "print (\"\\n\\n\")\n",
    "print (graph.get_ids_per_term('HP:0005781'))"
   ]
  },
  {
   "cell_type": "code",
   "execution_count": null,
   "metadata": {},
   "outputs": [],
   "source": [
    "print (graph.get_most_informative_ic('HP:0001371','HP:0005781'))"
   ]
  },
  {
   "cell_type": "code",
   "execution_count": null,
   "metadata": {},
   "outputs": [],
   "source": [
    "lin_score('HP:0001371','HP:0005781')"
   ]
  },
  {
   "cell_type": "code",
   "execution_count": null,
   "metadata": {},
   "outputs": [],
   "source": []
  }
 ],
 "metadata": {
  "kernelspec": {
   "display_name": "Python 3",
   "language": "python",
   "name": "python3"
  },
  "language_info": {
   "codemirror_mode": {
    "name": "ipython",
    "version": 3
   },
   "file_extension": ".py",
   "mimetype": "text/x-python",
   "name": "python",
   "nbconvert_exporter": "python",
   "pygments_lexer": "ipython3",
   "version": "3.8.3"
  }
 },
 "nbformat": 4,
 "nbformat_minor": 4
}
