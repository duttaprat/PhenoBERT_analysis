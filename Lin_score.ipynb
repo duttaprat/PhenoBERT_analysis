{
 "cells": [
  {
   "cell_type": "code",
   "execution_count": 1,
   "metadata": {},
   "outputs": [],
   "source": [
    "from __future__ import division\n",
    "import pandas as pd\n",
    "import numpy as np\n",
    "import operator"
   ]
  },
  {
   "cell_type": "code",
   "execution_count": 2,
   "metadata": {},
   "outputs": [],
   "source": [
    "from hpo_similarity import open_ontology\n",
    "graph, alt_ids, obsolete_ids = open_ontology()"
   ]
  },
  {
   "cell_type": "code",
   "execution_count": 10,
   "metadata": {},
   "outputs": [
    {
     "name": "stdout",
     "output_type": "stream",
     "text": [
      "CPU times: user 655 ms, sys: 28.1 ms, total: 683 ms\n",
      "Wall time: 681 ms\n"
     ]
    }
   ],
   "source": [
    "%%time\n",
    "data = pd.read_csv('phenotype_original.csv')\n",
    "g = data.groupby('#DatabaseID')\n",
    "G= g['HPO_ID'].apply(lambda s: s.tolist())\n",
    "OMIM_DICT = G.to_dict()"
   ]
  },
  {
   "cell_type": "code",
   "execution_count": 11,
   "metadata": {},
   "outputs": [
    {
     "name": "stdout",
     "output_type": "stream",
     "text": [
      "CPU times: user 631 ms, sys: 0 ns, total: 631 ms\n",
      "Wall time: 656 ms\n"
     ]
    }
   ],
   "source": [
    "%%time\n",
    "graph.tally_hpo_terms(OMIM_DICT)"
   ]
  },
  {
   "cell_type": "markdown",
   "metadata": {},
   "source": [
    "## Finding OMIM list for particular Phenotype"
   ]
  },
  {
   "cell_type": "code",
   "execution_count": 13,
   "metadata": {},
   "outputs": [],
   "source": [
    "g = data.groupby('HPO_ID')\n",
    "G= g['#DatabaseID'].apply(lambda s: s.tolist())\n",
    "HPO_DICT = G.to_dict()"
   ]
  },
  {
   "cell_type": "code",
   "execution_count": 14,
   "metadata": {},
   "outputs": [
    {
     "data": {
      "text/plain": [
       "['OMIM:121070',\n",
       " 'OMIM:618143',\n",
       " 'OMIM:208080',\n",
       " 'OMIM:616570',\n",
       " 'OMIM:602484',\n",
       " 'OMIM:217150',\n",
       " 'OMIM:616866',\n",
       " 'OMIM:616531',\n",
       " 'OMIM:616258',\n",
       " 'OMIM:618285',\n",
       " 'OMIM:208085',\n",
       " 'OMIM:162370',\n",
       " 'OMIM:608930',\n",
       " 'OMIM:601110',\n",
       " 'OMIM:156530',\n",
       " 'OMIM:616286',\n",
       " 'OMIM:178110',\n",
       " 'OMIM:618291',\n",
       " 'OMIM:212540',\n",
       " 'OMIM:616326',\n",
       " 'OMIM:601776',\n",
       " 'OMIM:616287',\n",
       " 'OMIM:201550',\n",
       " 'OMIM:608931',\n",
       " 'OMIM:618622',\n",
       " 'OMIM:618622',\n",
       " 'OMIM:617301',\n",
       " 'OMIM:617143',\n",
       " 'OMIM:618393',\n",
       " 'OMIM:615065',\n",
       " 'OMIM:615553',\n",
       " 'OMIM:256030',\n",
       " 'OMIM:231080',\n",
       " 'OMIM:226730',\n",
       " 'OMIM:601680',\n",
       " 'OMIM:617193',\n",
       " 'OMIM:618397',\n",
       " 'OMIM:301830',\n",
       " 'OMIM:259775',\n",
       " 'OMIM:615834',\n",
       " 'OMIM:232500',\n",
       " 'OMIM:616342',\n",
       " 'OMIM:616165',\n",
       " 'OMIM:253900',\n",
       " 'OMIM:187370',\n",
       " 'OMIM:108120',\n",
       " 'OMIM:601809',\n",
       " 'OMIM:617822',\n",
       " 'OMIM:617468',\n",
       " 'OMIM:614262',\n",
       " 'OMIM:214150',\n",
       " 'OMIM:613404',\n",
       " 'OMIM:615547',\n",
       " 'OMIM:616867',\n",
       " 'OMIM:208081',\n",
       " 'OMIM:108200',\n",
       " 'OMIM:254210',\n",
       " 'OMIM:208100',\n",
       " 'OMIM:314580',\n",
       " 'OMIM:611369',\n",
       " 'OMIM:614961',\n",
       " 'OMIM:605275',\n",
       " 'OMIM:615330',\n",
       " 'OMIM:108145',\n",
       " 'OMIM:236500',\n",
       " 'OMIM:161800',\n",
       " 'OMIM:157900',\n",
       " 'OMIM:618484',\n",
       " 'OMIM:208155',\n",
       " 'OMIM:265000',\n",
       " 'OMIM:611890',\n",
       " 'OMIM:253310',\n",
       " 'OMIM:208150',\n",
       " 'OMIM:601160',\n",
       " 'OMIM:610758',\n",
       " 'OMIM:608013',\n",
       " 'OMIM:208158',\n",
       " 'OMIM:601701',\n",
       " 'OMIM:300158',\n",
       " 'OMIM:260600',\n",
       " 'OMIM:618186',\n",
       " 'OMIM:600175',\n",
       " 'OMIM:607598',\n",
       " 'OMIM:615731',\n",
       " 'OMIM:615282',\n",
       " 'OMIM:618766',\n",
       " 'OMIM:158300',\n",
       " 'OMIM:618265',\n",
       " 'OMIM:615095',\n",
       " 'OMIM:614335',\n",
       " 'OMIM:114300',\n",
       " 'OMIM:602398',\n",
       " 'ORPHA:355',\n",
       " 'ORPHA:99885',\n",
       " 'ORPHA:99886',\n",
       " 'ORPHA:85278',\n",
       " 'ORPHA:85212',\n",
       " 'ORPHA:85201',\n",
       " 'ORPHA:1484',\n",
       " 'ORPHA:1466',\n",
       " 'ORPHA:2771',\n",
       " 'ORPHA:244310',\n",
       " 'ORPHA:2836',\n",
       " 'ORPHA:96061',\n",
       " 'ORPHA:352490',\n",
       " 'ORPHA:250994',\n",
       " 'ORPHA:115',\n",
       " 'ORPHA:440713',\n",
       " 'ORPHA:994',\n",
       " 'ORPHA:63259',\n",
       " 'ORPHA:254346',\n",
       " 'ORPHA:178148',\n",
       " 'ORPHA:171436',\n",
       " 'ORPHA:171433',\n",
       " 'ORPHA:171430',\n",
       " 'ORPHA:166063',\n",
       " 'ORPHA:171439',\n",
       " 'ORPHA:2671',\n",
       " 'ORPHA:86822',\n",
       " 'ORPHA:1037',\n",
       " 'ORPHA:800',\n",
       " 'ORPHA:268940',\n",
       " 'ORPHA:163746',\n",
       " 'ORPHA:98914',\n",
       " 'ORPHA:496641',\n",
       " 'ORPHA:168572',\n",
       " 'ORPHA:320375',\n",
       " 'ORPHA:2461',\n",
       " 'ORPHA:2953',\n",
       " 'ORPHA:598',\n",
       " 'ORPHA:590',\n",
       " 'ORPHA:570',\n",
       " 'ORPHA:2077',\n",
       " 'ORPHA:1662',\n",
       " 'ORPHA:2990',\n",
       " 'ORPHA:2215']"
      ]
     },
     "execution_count": 14,
     "metadata": {},
     "output_type": "execute_result"
    }
   ],
   "source": [
    "HPO_DICT['HP:0002804']"
   ]
  },
  {
   "cell_type": "code",
   "execution_count": 15,
   "metadata": {
    "scrolled": true
   },
   "outputs": [
    {
     "data": {
      "text/plain": [
       "['OMIM:616227',\n",
       " 'OMIM:618143',\n",
       " 'OMIM:305450',\n",
       " 'OMIM:301830',\n",
       " 'OMIM:306990',\n",
       " 'OMIM:611369',\n",
       " 'OMIM:300244',\n",
       " 'OMIM:218649',\n",
       " 'OMIM:614915',\n",
       " 'OMIM:605013',\n",
       " 'ORPHA:370968',\n",
       " 'ORPHA:447997',\n",
       " 'ORPHA:51',\n",
       " 'ORPHA:33364',\n",
       " 'ORPHA:486815',\n",
       " 'ORPHA:352470',\n",
       " 'ORPHA:85319',\n",
       " 'ORPHA:504476',\n",
       " 'ORPHA:994',\n",
       " 'ORPHA:96170',\n",
       " 'ORPHA:2570',\n",
       " 'ORPHA:3056',\n",
       " 'ORPHA:916',\n",
       " 'ORPHA:157954',\n",
       " 'ORPHA:324604',\n",
       " 'ORPHA:264450',\n",
       " 'ORPHA:363429',\n",
       " 'ORPHA:98911',\n",
       " 'ORPHA:424107',\n",
       " 'ORPHA:610',\n",
       " 'ORPHA:320406',\n",
       " 'ORPHA:100976',\n",
       " 'ORPHA:466934',\n",
       " 'ORPHA:2959',\n",
       " 'ORPHA:597',\n",
       " 'ORPHA:464306',\n",
       " 'ORPHA:521406',\n",
       " 'ORPHA:536516',\n",
       " 'ORPHA:468631',\n",
       " 'ORPHA:1662',\n",
       " 'ORPHA:79318',\n",
       " 'ORPHA:536471']"
      ]
     },
     "execution_count": 15,
     "metadata": {},
     "output_type": "execute_result"
    }
   ],
   "source": [
    "HPO_DICT['HP:0002828']"
   ]
  },
  {
   "cell_type": "markdown",
   "metadata": {},
   "source": [
    "## Finding decendants for particular Phenotype"
   ]
  },
  {
   "cell_type": "code",
   "execution_count": 20,
   "metadata": {},
   "outputs": [
    {
     "name": "stdout",
     "output_type": "stream",
     "text": [
      "set()\n",
      "{'HP:0000924', 'HP:0000118', 'HP:0002828', 'HP:0011842', 'HP:0000001', 'HP:0011729', 'HP:0003549', 'HP:0011805', 'HP:0003011', 'HP:0001371', 'HP:0011843', 'HP:0100261'}\n"
     ]
    }
   ],
   "source": [
    "print (graph.get_descendants('HP:0002828'))\n",
    "print (graph.get_ancestors('HP:0002828'))"
   ]
  },
  {
   "cell_type": "markdown",
   "metadata": {},
   "source": [
    "## Finding information content for particular Phenotype"
   ]
  },
  {
   "cell_type": "code",
   "execution_count": null,
   "metadata": {},
   "outputs": [],
   "source": []
  }
 ],
 "metadata": {
  "kernelspec": {
   "display_name": "Python 3",
   "language": "python",
   "name": "python3"
  },
  "language_info": {
   "codemirror_mode": {
    "name": "ipython",
    "version": 3
   },
   "file_extension": ".py",
   "mimetype": "text/x-python",
   "name": "python",
   "nbconvert_exporter": "python",
   "pygments_lexer": "ipython3",
   "version": "3.8.5"
  }
 },
 "nbformat": 4,
 "nbformat_minor": 4
}
