{
 "cells": [
  {
   "cell_type": "code",
   "execution_count": 1,
   "metadata": {},
   "outputs": [],
   "source": [
    "from __future__ import division\n",
    "import pandas as pd\n",
    "import numpy as np\n",
    "import operator\n",
    "import pickle"
   ]
  },
  {
   "cell_type": "code",
   "execution_count": 2,
   "metadata": {},
   "outputs": [],
   "source": [
    "from hpo_similarity import open_ontology\n",
    "graph, alt_ids, obsolete_ids = open_ontology()"
   ]
  },
  {
   "cell_type": "code",
   "execution_count": 3,
   "metadata": {},
   "outputs": [
    {
     "name": "stdout",
     "output_type": "stream",
     "text": [
      "CPU times: user 5.9 s, sys: 50.1 ms, total: 5.95 s\n",
      "Wall time: 6.05 s\n"
     ]
    }
   ],
   "source": [
    "%%time\n",
    "data = pd.read_excel('phenotype_original.xlsx')\n",
    "g = data.groupby('#DatabaseID')\n",
    "G= g['HPO_ID'].apply(lambda s: s.tolist())\n",
    "OMIM_DICT = G.to_dict()"
   ]
  },
  {
   "cell_type": "code",
   "execution_count": 4,
   "metadata": {},
   "outputs": [
    {
     "name": "stdout",
     "output_type": "stream",
     "text": [
      "CPU times: user 293 ms, sys: 3.04 ms, total: 297 ms\n",
      "Wall time: 297 ms\n"
     ]
    }
   ],
   "source": [
    "%%time\n",
    "graph.tally_hpo_terms(OMIM_DICT)"
   ]
  },
  {
   "cell_type": "code",
   "execution_count": 5,
   "metadata": {},
   "outputs": [],
   "source": [
    "data1= data.head(108580)\n",
    "data2= data.loc[108580:]"
   ]
  },
  {
   "cell_type": "code",
   "execution_count": 6,
   "metadata": {},
   "outputs": [
    {
     "name": "stdout",
     "output_type": "stream",
     "text": [
      "9357\n"
     ]
    }
   ],
   "source": [
    "set_id = set(data[\"HPO_ID\"])\n",
    "print(len(set_id))"
   ]
  },
  {
   "cell_type": "code",
   "execution_count": 7,
   "metadata": {},
   "outputs": [],
   "source": [
    "def lin_score(graph, term1, term2):\n",
    "    a = graph.calculate_information_content(term1)\n",
    "    b = graph.calculate_information_content(term2)\n",
    "    c = 2*graph.get_most_informative_ic(term1,term2)\n",
    "    #print (\"##@@\",a,b,c)\n",
    "    try:\n",
    "        lin_score = c/(b + a)\n",
    "    except ZeroDivisionError:\n",
    "        lin_score = 0\n",
    "    return lin_score"
   ]
  },
  {
   "cell_type": "code",
   "execution_count": 8,
   "metadata": {},
   "outputs": [],
   "source": [
    "df_OMIM_ORPHA = pd.DataFrame(columns=['Phenotype_ID', 'Number_of_Disease', 'Information_Content','Lin_Score'])"
   ]
  },
  {
   "cell_type": "markdown",
   "metadata": {},
   "source": [
    "## Immediate children of HP:0001371"
   ]
  },
  {
   "cell_type": "code",
   "execution_count": 9,
   "metadata": {},
   "outputs": [
    {
     "data": {
      "text/plain": [
       "{'HP:0002803',\n",
       " 'HP:0002828',\n",
       " 'HP:0003121',\n",
       " 'HP:0004631',\n",
       " 'HP:0005781',\n",
       " 'HP:0005876',\n",
       " 'HP:0005997',\n",
       " 'HP:0030044',\n",
       " 'HP:0100492'}"
      ]
     },
     "execution_count": 9,
     "metadata": {},
     "output_type": "execute_result"
    }
   ],
   "source": [
    "children = graph.get_immediate_descendants('HP:0001371')\n",
    "children"
   ]
  },
  {
   "cell_type": "markdown",
   "metadata": {},
   "source": [
    "### Information content and Number of disease of 'HP:0001371'"
   ]
  },
  {
   "cell_type": "code",
   "execution_count": 11,
   "metadata": {},
   "outputs": [
    {
     "name": "stdout",
     "output_type": "stream",
     "text": [
      "2.4664508105562772\n",
      "998\n",
      "{'ORPHA:424107', 'OMIM:616801', 'OMIM:147791', 'ORPHA:457205', 'OMIM:600325', 'OMIM:251300', 'OMIM:607014', 'OMIM:224800', 'OMIM:605637', 'OMIM:608149', 'ORPHA:284160', 'OMIM:256030', 'OMIM:313420', 'ORPHA:83', 'OMIM:608013', 'OMIM:248370', 'OMIM:264090', 'ORPHA:246', 'OMIM:602398', 'ORPHA:1703', 'ORPHA:821', 'OMIM:617143', 'ORPHA:96061', 'OMIM:200980', 'ORPHA:370980', 'OMIM:154700', 'ORPHA:440713', 'OMIM:615490', 'OMIM:151050', 'OMIM:207410', 'OMIM:253700', 'OMIM:616081', 'OMIM:251240', 'ORPHA:261537', 'ORPHA:370968', 'OMIM:179613', 'ORPHA:85212', 'OMIM:610713', 'OMIM:618266', 'ORPHA:2136', 'OMIM:236500', 'OMIM:603513', 'OMIM:226650', 'ORPHA:284979', 'OMIM:617105', 'OMIM:609628', 'OMIM:147800', 'OMIM:184900', 'ORPHA:96164', 'OMIM:609308', 'ORPHA:2741', 'OMIM:607598', 'ORPHA:468699', 'ORPHA:98896', 'ORPHA:97297', 'OMIM:612138', 'OMIM:617591', 'OMIM:117000', 'OMIM:601110', 'ORPHA:1979', 'ORPHA:3063', 'OMIM:616006', 'OMIM:617468', 'OMIM:300695', 'ORPHA:3447', 'OMIM:616866', 'OMIM:616258', 'OMIM:265000', 'OMIM:615491', 'ORPHA:191', 'OMIM:616263', 'ORPHA:93932', 'OMIM:300998', 'OMIM:235510', 'OMIM:614230', 'ORPHA:261279', 'OMIM:311450', 'ORPHA:3201', 'OMIM:301830', 'ORPHA:90354', 'OMIM:255600', 'ORPHA:3080', 'OMIM:617013', 'OMIM:618453', 'OMIM:300963', 'ORPHA:2631', 'ORPHA:329178', 'ORPHA:1113', 'ORPHA:99921', 'OMIM:216800', 'OMIM:208230', 'ORPHA:1194', 'ORPHA:2793', 'ORPHA:1752', 'ORPHA:580', 'OMIM:618761', 'OMIM:193700', 'ORPHA:500095', 'OMIM:194350', 'OMIM:610168', 'ORPHA:137834', 'OMIM:271665', 'OMIM:618324', 'OMIM:615539', 'ORPHA:800', 'OMIM:602782', 'ORPHA:251038', 'OMIM:618786', 'ORPHA:1272', 'ORPHA:295036', 'OMIM:616668', 'OMIM:236670', 'OMIM:210000', 'ORPHA:320396', 'OMIM:611962', 'OMIM:616681', 'OMIM:618186', 'OMIM:214150', 'ORPHA:1321', 'OMIM:602249', 'OMIM:610758', 'OMIM:618291', 'ORPHA:1759', 'ORPHA:96092', 'OMIM:609456', 'OMIM:272950', 'ORPHA:99776', 'OMIM:614407', 'OMIM:180849', 'OMIM:618006', 'ORPHA:3168', 'ORPHA:399081', 'OMIM:222765', 'OMIM:252011', 'OMIM:613458', 'ORPHA:468631', 'OMIM:602484', 'OMIM:613604', 'ORPHA:178148', 'OMIM:259450', 'OMIM:617602', 'ORPHA:42', 'OMIM:609033', 'OMIM:230000', 'OMIM:609541', 'OMIM:156550', 'OMIM:130070', 'ORPHA:96179', 'ORPHA:496641', 'OMIM:612313', 'OMIM:614225', 'OMIM:211930', 'OMIM:600638', 'OMIM:271225', 'ORPHA:575', 'OMIM:275210', 'ORPHA:258', 'OMIM:616354', 'ORPHA:85279', 'OMIM:215150', 'OMIM:186000', 'OMIM:278760', 'OMIM:617360', 'ORPHA:1784', 'ORPHA:2251', 'OMIM:201000', 'OMIM:613154', 'OMIM:228600', 'OMIM:122470', 'OMIM:616651', 'OMIM:222600', 'OMIM:618524', 'OMIM:608931', 'OMIM:206920', 'OMIM:615351', 'ORPHA:2908', 'OMIM:156530', 'OMIM:256520', 'OMIM:613723', 'OMIM:253900', 'ORPHA:99886', 'OMIM:611091', 'ORPHA:261318', 'ORPHA:521406', 'OMIM:248700', 'ORPHA:2876', 'ORPHA:513456', 'OMIM:608836', 'ORPHA:2753', 'ORPHA:3220', 'ORPHA:3409', 'OMIM:255310', 'OMIM:312150', 'OMIM:612350', 'OMIM:600416', 'OMIM:255995', 'OMIM:258865', 'ORPHA:90289', 'OMIM:310300', 'ORPHA:263463', 'OMIM:249710', 'OMIM:600302', 'ORPHA:435628', 'ORPHA:2850', 'ORPHA:324604', 'ORPHA:464306', 'ORPHA:98808', 'ORPHA:1106', 'OMIM:309900', 'OMIM:300868', 'OMIM:601776', 'ORPHA:352490', 'ORPHA:1692', 'ORPHA:1323', 'ORPHA:280633', 'OMIM:610015', 'OMIM:247990', 'OMIM:616471', 'OMIM:615095', 'ORPHA:920', 'OMIM:610474', 'OMIM:300717', 'OMIM:139750', 'OMIM:160150', 'OMIM:616313', 'ORPHA:2020', 'OMIM:114200', 'OMIM:618404', 'OMIM:613404', 'ORPHA:99885', 'ORPHA:1484', 'OMIM:228520', 'OMIM:608799', 'OMIM:613818', 'OMIM:276820', 'OMIM:231070', 'ORPHA:324442', 'ORPHA:610', 'OMIM:211920', 'ORPHA:90652', 'OMIM:602771', 'OMIM:617762', 'ORPHA:666', 'OMIM:214980', 'ORPHA:261349', 'OMIM:605039', 'OMIM:618005', 'ORPHA:2008', 'OMIM:615731', 'OMIM:617072', 'ORPHA:500545', 'OMIM:301815', 'ORPHA:93322', 'OMIM:186300', 'OMIM:122850', 'ORPHA:353298', 'OMIM:614067', 'OMIM:618815', 'ORPHA:244310', 'ORPHA:3042', 'ORPHA:93925', 'ORPHA:2907', 'ORPHA:3078', 'ORPHA:1716', 'ORPHA:3103', 'OMIM:617114', 'OMIM:275900', 'ORPHA:319514', 'OMIM:601675', 'OMIM:616342', 'ORPHA:915', 'OMIM:613327', 'ORPHA:1488', 'ORPHA:171436', 'ORPHA:93404', 'ORPHA:916', 'OMIM:126050', 'OMIM:618237', 'OMIM:613710', 'OMIM:612079', 'ORPHA:2521', 'ORPHA:1388', 'OMIM:229230', 'ORPHA:93405', 'ORPHA:398073', 'OMIM:610099', 'OMIM:208150', 'ORPHA:228426', 'OMIM:305620', 'ORPHA:261211', 'ORPHA:98914', 'OMIM:618265', 'OMIM:609192', 'ORPHA:85328', 'OMIM:162370', 'OMIM:617193', 'ORPHA:628', 'ORPHA:436003', 'OMIM:614961', 'ORPHA:521426', 'OMIM:242300', 'ORPHA:333', 'OMIM:603387', 'ORPHA:847', 'OMIM:259780', 'ORPHA:2804', 'ORPHA:2596', 'OMIM:614462', 'OMIM:300523', 'ORPHA:2044', 'OMIM:309590', 'OMIM:616505', 'OMIM:616881', 'OMIM:607596', 'ORPHA:1606', 'OMIM:231050', 'OMIM:308050', 'OMIM:208100', 'OMIM:616516', 'OMIM:161800', 'ORPHA:2771', 'OMIM:616227', 'OMIM:617864', 'OMIM:616809', 'ORPHA:263487', 'OMIM:148210', 'OMIM:231080', 'ORPHA:1326', 'OMIM:300799', 'OMIM:100050', 'OMIM:609285', 'OMIM:616920', 'OMIM:218040', 'OMIM:175700', 'ORPHA:2215', 'ORPHA:250', 'ORPHA:355', 'OMIM:300166', 'ORPHA:3250', 'ORPHA:3248', 'ORPHA:261344', 'OMIM:157900', 'OMIM:618622', 'ORPHA:98855', 'OMIM:226600', 'ORPHA:367', 'ORPHA:306542', 'OMIM:114300', 'OMIM:253220', 'OMIM:310440', 'OMIM:613162', 'OMIM:601559', 'OMIM:612713', 'OMIM:614653', 'ORPHA:2554', 'OMIM:226730', 'ORPHA:440437', 'OMIM:221810', 'OMIM:210730', 'OMIM:611929', 'OMIM:618484', 'OMIM:182212', 'OMIM:618162', 'ORPHA:2990', 'OMIM:616737', 'OMIM:616145', 'ORPHA:320380', 'ORPHA:391372', 'OMIM:617201', 'OMIM:618388', 'ORPHA:2671', 'OMIM:618578', 'ORPHA:2021', 'ORPHA:2028', 'OMIM:609128', 'OMIM:259610', 'OMIM:233805', 'ORPHA:261330', 'OMIM:615348', 'ORPHA:75840', 'ORPHA:2462', 'ORPHA:776', 'OMIM:260150', 'OMIM:605275', 'ORPHA:171719', 'OMIM:225753', 'OMIM:228020', 'OMIM:616733', 'ORPHA:96167', 'OMIM:614399', 'OMIM:609200', 'ORPHA:11', 'ORPHA:505237', 'ORPHA:169802', 'ORPHA:98902', 'OMIM:612954', 'OMIM:300886', 'OMIM:214110', 'OMIM:618379', 'ORPHA:93926', 'ORPHA:90340', 'ORPHA:1658', 'OMIM:301041', 'ORPHA:96149', 'OMIM:277720', 'OMIM:194050', 'ORPHA:2959', 'OMIM:617402', 'ORPHA:86822', 'ORPHA:178303', 'ORPHA:487796', 'OMIM:208085', 'OMIM:613870', 'OMIM:259775', 'ORPHA:2547', 'OMIM:263210', 'OMIM:613744', 'ORPHA:87876', 'ORPHA:369891', 'ORPHA:504476', 'OMIM:611369', 'OMIM:158810', 'ORPHA:1520', 'OMIM:208081', 'ORPHA:2053', 'OMIM:618493', 'OMIM:618635', 'OMIM:244300', 'ORPHA:2633', 'OMIM:249600', 'ORPHA:97244', 'OMIM:618323', 'OMIM:601160', 'ORPHA:261337', 'OMIM:616395', 'OMIM:613795', 'ORPHA:98791', 'ORPHA:2863', 'ORPHA:363528', 'OMIM:156400', 'ORPHA:3454', 'OMIM:614098', 'OMIM:618201', 'OMIM:218649', 'OMIM:611067', 'OMIM:215100', 'OMIM:254090', 'OMIM:618343', 'ORPHA:85293', 'ORPHA:144', 'OMIM:618011', 'OMIM:601561', 'OMIM:208080', 'ORPHA:169186', 'ORPHA:62', 'OMIM:617452', 'OMIM:611588', 'OMIM:614008', 'OMIM:614976', 'ORPHA:2926', 'ORPHA:320370', 'ORPHA:88644', 'ORPHA:2148', 'ORPHA:459061', 'ORPHA:398069', 'OMIM:608423', 'ORPHA:1325', 'ORPHA:1236', 'ORPHA:682', 'OMIM:617396', 'OMIM:143095', 'OMIM:177050', 'OMIM:614594', 'OMIM:618523', 'ORPHA:75496', 'OMIM:121050', 'OMIM:608099', 'OMIM:618143', 'OMIM:617239', 'OMIM:280000', 'ORPHA:401785', 'OMIM:300280', 'ORPHA:251014', 'OMIM:608612', 'OMIM:232500', 'ORPHA:444072', 'OMIM:200700', 'OMIM:618065', 'OMIM:617403', 'ORPHA:2311', 'OMIM:225790', 'OMIM:607155', 'OMIM:614262', 'OMIM:617561', 'ORPHA:98911', 'OMIM:217990', 'OMIM:618804', 'ORPHA:412035', 'ORPHA:505248', 'OMIM:608257', 'ORPHA:93403', 'OMIM:615249', 'ORPHA:206549', 'OMIM:614335', 'ORPHA:324540', 'ORPHA:51', 'OMIM:615663', 'OMIM:211960', 'OMIM:259600', 'ORPHA:59', 'ORPHA:590', 'ORPHA:353', 'OMIM:617729', 'ORPHA:56304', 'ORPHA:3047', 'ORPHA:93924', 'ORPHA:157954', 'ORPHA:79408', 'OMIM:613156', 'OMIM:247200', 'OMIM:611209', 'ORPHA:324410', 'OMIM:614222', 'ORPHA:3294', 'OMIM:186580', 'OMIM:607196', 'OMIM:114100', 'OMIM:203550', 'ORPHA:957', 'ORPHA:98905', 'ORPHA:171442', 'OMIM:254210', 'OMIM:201020', 'OMIM:616470', 'OMIM:614866', 'OMIM:210600', 'OMIM:612394', 'OMIM:229850', 'OMIM:614815', 'ORPHA:496689', 'OMIM:253600', 'OMIM:603511', 'ORPHA:251393', 'ORPHA:3380', 'OMIM:617599', 'OMIM:614457', 'ORPHA:3132', 'ORPHA:798', 'OMIM:617106', 'OMIM:121070', 'ORPHA:404454', 'OMIM:608156', 'ORPHA:261', 'OMIM:114150', 'OMIM:614915', 'ORPHA:500055', 'OMIM:264010', 'OMIM:612540', 'OMIM:617333', 'OMIM:269000', 'ORPHA:251056', 'ORPHA:100991', 'OMIM:160565', 'OMIM:615043', 'OMIM:136760', 'ORPHA:1927', 'ORPHA:2065', 'ORPHA:77297', 'ORPHA:168572', 'ORPHA:1270', 'OMIM:613811', 'OMIM:607225', 'ORPHA:93333', 'OMIM:617140', 'OMIM:611105', 'OMIM:616204', 'OMIM:615042', 'ORPHA:1143', 'OMIM:217150', 'ORPHA:544503', 'OMIM:208910', 'OMIM:256730', 'OMIM:609284', 'ORPHA:435938', 'ORPHA:464738', 'ORPHA:570', 'OMIM:615065', 'OMIM:616326', 'ORPHA:220386', 'OMIM:260660', 'OMIM:618332', 'ORPHA:88628', 'ORPHA:98863', 'ORPHA:220402', 'OMIM:256040', 'ORPHA:2920', 'ORPHA:171439', 'ORPHA:399103', 'ORPHA:137898', 'ORPHA:171433', 'OMIM:245600', 'ORPHA:93320', 'ORPHA:3056', 'OMIM:616894', 'ORPHA:303', 'ORPHA:254346', 'OMIM:171000', 'OMIM:310400', 'ORPHA:166108', 'ORPHA:1892', 'OMIM:118230', 'OMIM:615170', 'ORPHA:314679', 'ORPHA:1545', 'ORPHA:85201', 'OMIM:253310', 'ORPHA:464', 'OMIM:618268', 'OMIM:117650', 'OMIM:613869', 'OMIM:618397', 'ORPHA:391474', 'OMIM:615282', 'OMIM:248800', 'OMIM:301039', 'ORPHA:2604', 'OMIM:608540', 'OMIM:601560', 'OMIM:309520', 'ORPHA:157946', 'ORPHA:79318', 'OMIM:618346', 'ORPHA:2953', 'OMIM:600920', 'OMIM:139210', 'OMIM:616503', 'ORPHA:1327', 'ORPHA:93406', 'OMIM:108200', 'ORPHA:284984', 'ORPHA:63259', 'OMIM:616286', 'OMIM:618766', 'ORPHA:3455', 'OMIM:606242', 'OMIM:615919', 'ORPHA:48431', 'ORPHA:314585', 'ORPHA:1707', 'OMIM:201550', 'ORPHA:157973', 'ORPHA:250994', 'OMIM:268300', 'OMIM:227330', 'OMIM:210710', 'ORPHA:432', 'OMIM:254940', 'ORPHA:3041', 'ORPHA:2570', 'OMIM:208250', 'OMIM:208050', 'ORPHA:33364', 'OMIM:604801', 'OMIM:618436', 'OMIM:618469', 'OMIM:212360', 'ORPHA:1466', 'ORPHA:466934', 'ORPHA:1617', 'OMIM:126900', 'OMIM:212065', 'ORPHA:356961', 'ORPHA:320375', 'ORPHA:371364', 'OMIM:218000', 'OMIM:616897', 'ORPHA:2635', 'OMIM:212540', 'ORPHA:96183', 'ORPHA:2273', 'ORPHA:3180', 'OMIM:609260', 'ORPHA:1101', 'ORPHA:268940', 'OMIM:607539', 'OMIM:618156', 'OMIM:300244', 'ORPHA:280384', 'ORPHA:2152', 'OMIM:616867', 'ORPHA:352470', 'OMIM:601668', 'OMIM:253290', 'OMIM:616549', 'OMIM:300612', 'ORPHA:77260', 'OMIM:615325', 'ORPHA:2839', 'OMIM:615381', 'ORPHA:2710', 'OMIM:108120', 'OMIM:615547', 'OMIM:260600', 'OMIM:600175', 'ORPHA:3206', 'OMIM:614255', 'ORPHA:1738', 'OMIM:616228', 'ORPHA:354', 'ORPHA:481152', 'ORPHA:363444', 'OMIM:300884', 'OMIM:617527', 'OMIM:258650', 'OMIM:108145', 'ORPHA:1037', 'OMIM:608840', 'OMIM:617481', 'ORPHA:267', 'ORPHA:1706', 'OMIM:613155', 'ORPHA:376', 'OMIM:246560', 'OMIM:605013', 'ORPHA:264450', 'OMIM:614833', 'ORPHA:1145', 'ORPHA:2466', 'OMIM:612952', 'OMIM:208158', 'ORPHA:90153', 'OMIM:604320', 'ORPHA:98028', 'OMIM:113000', 'OMIM:201470', 'ORPHA:127', 'OMIM:181350', 'OMIM:617562', 'OMIM:310200', 'OMIM:613385', 'ORPHA:485', 'OMIM:615834', 'ORPHA:447757', 'OMIM:609945', 'ORPHA:1507', 'ORPHA:171860', 'OMIM:601088', 'OMIM:118650', 'ORPHA:353327', 'ORPHA:459070', 'OMIM:615553', 'OMIM:618460', 'OMIM:300373', 'OMIM:618651', 'OMIM:129200', 'OMIM:300004', 'ORPHA:98853', 'ORPHA:1306', 'OMIM:611961', 'OMIM:616165', 'OMIM:616287', 'ORPHA:581', 'OMIM:300989', 'OMIM:601803', 'OMIM:607932', 'OMIM:616683', 'OMIM:612233', 'OMIM:617393', 'ORPHA:166063', 'OMIM:611228', 'OMIM:617301', 'ORPHA:1826', 'ORPHA:320406', 'OMIM:201750', 'ORPHA:1662', 'OMIM:605355', 'ORPHA:96170', 'ORPHA:83617', 'OMIM:613800', 'OMIM:300232', 'OMIM:607706', 'OMIM:611705', 'OMIM:615368', 'ORPHA:261236', 'OMIM:617055', 'ORPHA:85285', 'OMIM:613776', 'OMIM:617146', 'ORPHA:2176', 'ORPHA:506358', 'OMIM:608278', 'ORPHA:1146', 'ORPHA:2872', 'OMIM:224400', 'ORPHA:39812', 'ORPHA:2590', 'OMIM:614678', 'OMIM:616007', 'ORPHA:85319', 'ORPHA:994', 'ORPHA:220393', 'ORPHA:2900', 'ORPHA:3208', 'ORPHA:168569', 'OMIM:617303', 'OMIM:606170', 'OMIM:618414', 'ORPHA:447997', 'OMIM:277590', 'ORPHA:2232', 'OMIM:615290', 'OMIM:113450', 'OMIM:615959', 'ORPHA:397709', 'ORPHA:1937', 'ORPHA:363454', 'OMIM:186550', 'OMIM:602471', 'OMIM:616852', 'ORPHA:2928', 'OMIM:618393', 'OMIM:300718', 'OMIM:309800', 'OMIM:263700', 'OMIM:601701', 'ORPHA:96123', 'ORPHA:1425', 'OMIM:255800', 'ORPHA:233', 'OMIM:616531', 'OMIM:617822', 'ORPHA:522077', 'OMIM:616222', 'OMIM:225280', 'OMIM:314580', 'OMIM:607684', 'ORPHA:261519', 'ORPHA:2712', 'ORPHA:141', 'OMIM:255200', 'OMIM:228800', 'ORPHA:2994', 'ORPHA:306692', 'OMIM:224690', 'ORPHA:3138', 'ORPHA:284417', 'OMIM:609180', 'OMIM:607855', 'ORPHA:738', 'ORPHA:2083', 'OMIM:616570', 'ORPHA:93473', 'ORPHA:536516', 'OMIM:601353', 'OMIM:617664', 'ORPHA:3107', 'OMIM:253800', 'OMIM:615330', 'ORPHA:508533', 'OMIM:618363', 'ORPHA:261290', 'OMIM:601809', 'OMIM:309510', 'ORPHA:95699', 'ORPHA:261323', 'ORPHA:1471', 'ORPHA:363429', 'OMIM:618175', 'OMIM:613150', 'OMIM:608930', 'OMIM:611890', 'ORPHA:1154', 'ORPHA:85278', 'ORPHA:3210', 'OMIM:168400', 'OMIM:617977', 'ORPHA:2135', 'OMIM:187370', 'ORPHA:231', 'OMIM:618198', 'OMIM:613330', 'ORPHA:85164', 'ORPHA:2092', 'OMIM:271640', 'ORPHA:254361', 'OMIM:148820', 'OMIM:312920', 'ORPHA:598', 'ORPHA:2836', 'OMIM:268650', 'OMIM:223800', 'ORPHA:357154', 'ORPHA:435638', 'OMIM:158300', 'ORPHA:115', 'ORPHA:2774', 'OMIM:606612', 'ORPHA:261552', 'OMIM:166700', 'OMIM:309500', 'ORPHA:568', 'OMIM:615883', 'OMIM:178110', 'OMIM:208155', 'OMIM:113620', 'OMIM:608104', 'OMIM:600627', 'OMIM:302800', 'ORPHA:272', 'OMIM:608837', 'OMIM:601016', 'OMIM:245160', 'OMIM:306990', 'OMIM:259050', 'OMIM:601680', 'ORPHA:1883', 'ORPHA:261911', 'OMIM:617137', 'ORPHA:1495', 'OMIM:616200', 'OMIM:608093', 'ORPHA:99947', 'OMIM:618529', 'OMIM:609220', 'ORPHA:457279', 'ORPHA:171430', 'OMIM:612513', 'ORPHA:576', 'OMIM:309000', 'OMIM:618285', 'ORPHA:2461', 'ORPHA:79139', 'OMIM:618440', 'OMIM:614438', 'OMIM:612674', 'OMIM:607872', 'OMIM:264180', 'ORPHA:373', 'ORPHA:1794', 'ORPHA:536471', 'OMIM:300696', 'OMIM:616330', 'OMIM:600000', 'ORPHA:100976', 'ORPHA:488642', 'ORPHA:1529', 'ORPHA:77258', 'ORPHA:363611', 'ORPHA:672', 'OMIM:615851', 'OMIM:618658', 'OMIM:614498', 'ORPHA:486815', 'OMIM:614066', 'ORPHA:2457', 'ORPHA:293967', 'ORPHA:163746', 'OMIM:604802', 'OMIM:616248', 'OMIM:618435', 'ORPHA:157965', 'OMIM:300243', 'ORPHA:896', 'OMIM:211910', 'ORPHA:444051', 'ORPHA:169805', 'OMIM:617537', 'ORPHA:1968', 'OMIM:305450', 'OMIM:606631', 'OMIM:610756', 'OMIM:300158', 'OMIM:609162', 'OMIM:307000', 'OMIM:611717', 'OMIM:618076', 'ORPHA:3332', 'ORPHA:79503', 'OMIM:617519', 'OMIM:164200', 'OMIM:272430', 'OMIM:603543', 'ORPHA:1319', 'ORPHA:1836', 'ORPHA:280333', 'ORPHA:399086', 'ORPHA:597', 'OMIM:304340', 'OMIM:252940', 'OMIM:613205', 'ORPHA:60030', 'OMIM:616266', 'ORPHA:612', 'OMIM:618298', 'ORPHA:209951', 'ORPHA:2077', 'ORPHA:466768', 'ORPHA:456312'}\n"
     ]
    }
   ],
   "source": [
    "print (graph.calculate_information_content('HP:0001371'))\n",
    "print (graph.get_term_count('HP:0001371'))\n",
    "print (graph.get_ids_per_term('HP:0001371'))"
   ]
  },
  {
   "cell_type": "code",
   "execution_count": 12,
   "metadata": {},
   "outputs": [],
   "source": [
    "i=0\n",
    "for child in children:\n",
    "    df_OMIM_ORPHA.loc[i,['Phenotype_ID']]= child\n",
    "    #print (child)\n",
    "    #print (graph.calculate_information_content(child))\n",
    "    #print (graph.get_term_count(child))\n",
    "    #print (graph.get_ids_per_term(child))\n",
    "    #print (lin_score(child, 'HP:0001371'))\n",
    "    df_OMIM_ORPHA.loc[i,['Number_of_Disease']]= graph.get_term_count(child)\n",
    "    df_OMIM_ORPHA.loc[i,['Information_Content']]= graph.calculate_information_content(child)\n",
    "    df_OMIM_ORPHA.loc[i,['Lin_Score']]= lin_score(graph, child, 'HP:0001371')\n",
    "    i= i+1"
   ]
  },
  {
   "cell_type": "markdown",
   "metadata": {},
   "source": [
    "### Information content, Number of disease and Lin Score while considering both OMIM and ORPHA"
   ]
  },
  {
   "cell_type": "code",
   "execution_count": 13,
   "metadata": {},
   "outputs": [
    {
     "data": {
      "text/html": [
       "<div>\n",
       "<style scoped>\n",
       "    .dataframe tbody tr th:only-of-type {\n",
       "        vertical-align: middle;\n",
       "    }\n",
       "\n",
       "    .dataframe tbody tr th {\n",
       "        vertical-align: top;\n",
       "    }\n",
       "\n",
       "    .dataframe thead th {\n",
       "        text-align: right;\n",
       "    }\n",
       "</style>\n",
       "<table border=\"1\" class=\"dataframe\">\n",
       "  <thead>\n",
       "    <tr style=\"text-align: right;\">\n",
       "      <th></th>\n",
       "      <th>Phenotype_ID</th>\n",
       "      <th>Number_of_Disease</th>\n",
       "      <th>Information_Content</th>\n",
       "      <th>Lin_Score</th>\n",
       "    </tr>\n",
       "  </thead>\n",
       "  <tbody>\n",
       "    <tr>\n",
       "      <th>0</th>\n",
       "      <td>HP:0002828</td>\n",
       "      <td>42</td>\n",
       "      <td>5.634534</td>\n",
       "      <td>0.608926</td>\n",
       "    </tr>\n",
       "    <tr>\n",
       "      <th>1</th>\n",
       "      <td>HP:0002803</td>\n",
       "      <td>174</td>\n",
       "      <td>4.213149</td>\n",
       "      <td>0.738503</td>\n",
       "    </tr>\n",
       "    <tr>\n",
       "      <th>2</th>\n",
       "      <td>HP:0003121</td>\n",
       "      <td>503</td>\n",
       "      <td>3.151614</td>\n",
       "      <td>0.878043</td>\n",
       "    </tr>\n",
       "    <tr>\n",
       "      <th>3</th>\n",
       "      <td>HP:0004631</td>\n",
       "      <td>7</td>\n",
       "      <td>7.426294</td>\n",
       "      <td>0.498638</td>\n",
       "    </tr>\n",
       "    <tr>\n",
       "      <th>4</th>\n",
       "      <td>HP:0005781</td>\n",
       "      <td>13</td>\n",
       "      <td>6.807255</td>\n",
       "      <td>0.531923</td>\n",
       "    </tr>\n",
       "    <tr>\n",
       "      <th>5</th>\n",
       "      <td>HP:0100492</td>\n",
       "      <td>31</td>\n",
       "      <td>5.938217</td>\n",
       "      <td>0.586924</td>\n",
       "    </tr>\n",
       "    <tr>\n",
       "      <th>6</th>\n",
       "      <td>HP:0005876</td>\n",
       "      <td>9</td>\n",
       "      <td>7.17498</td>\n",
       "      <td>0.511636</td>\n",
       "    </tr>\n",
       "    <tr>\n",
       "      <th>7</th>\n",
       "      <td>HP:0030044</td>\n",
       "      <td>417</td>\n",
       "      <td>3.339118</td>\n",
       "      <td>0.849684</td>\n",
       "    </tr>\n",
       "    <tr>\n",
       "      <th>8</th>\n",
       "      <td>HP:0005997</td>\n",
       "      <td>3</td>\n",
       "      <td>8.273592</td>\n",
       "      <td>0.4593</td>\n",
       "    </tr>\n",
       "  </tbody>\n",
       "</table>\n",
       "</div>"
      ],
      "text/plain": [
       "  Phenotype_ID Number_of_Disease Information_Content Lin_Score\n",
       "0   HP:0002828                42            5.634534  0.608926\n",
       "1   HP:0002803               174            4.213149  0.738503\n",
       "2   HP:0003121               503            3.151614  0.878043\n",
       "3   HP:0004631                 7            7.426294  0.498638\n",
       "4   HP:0005781                13            6.807255  0.531923\n",
       "5   HP:0100492                31            5.938217  0.586924\n",
       "6   HP:0005876                 9             7.17498  0.511636\n",
       "7   HP:0030044               417            3.339118  0.849684\n",
       "8   HP:0005997                 3            8.273592    0.4593"
      ]
     },
     "execution_count": 13,
     "metadata": {},
     "output_type": "execute_result"
    }
   ],
   "source": [
    "df_OMIM_ORPHA"
   ]
  },
  {
   "cell_type": "code",
   "execution_count": 14,
   "metadata": {
    "scrolled": false
   },
   "outputs": [],
   "source": [
    "graph1, alt_ids, obsolete_ids = open_ontology()\n",
    "g1 = data1.groupby('#DatabaseID')\n",
    "G1= g1['HPO_ID'].apply(lambda s: s.tolist())\n",
    "OMIM_DICT1 = G1.to_dict()\n",
    "graph1.tally_hpo_terms(OMIM_DICT1)"
   ]
  },
  {
   "cell_type": "code",
   "execution_count": 15,
   "metadata": {},
   "outputs": [],
   "source": [
    "df_OMIM = pd.DataFrame(columns=['Phenotype_ID', 'Number_of_Disease', 'Information_Content','Lin_Score'])\n",
    "i=0\n",
    "for child in children:\n",
    "    df_OMIM.loc[i,['Phenotype_ID']]= child\n",
    "    #print (child)\n",
    "    #print (graph1.calculate_information_content(child))\n",
    "    #print (graph1.get_term_count(child))\n",
    "    #print (graph.get_ids_per_term(child))\n",
    "    #print (lin_score(graph1, child, 'HP:0001371'))\n",
    "    #print(\"\\n\")\n",
    "    df_OMIM.loc[i,['Number_of_Disease']]= graph1.get_term_count(child)\n",
    "    df_OMIM.loc[i,['Information_Content']]= graph1.calculate_information_content(child)\n",
    "    df_OMIM.loc[i,['Lin_Score']]= lin_score(graph1, child, 'HP:0001371')\n",
    "    i= i+1"
   ]
  },
  {
   "cell_type": "markdown",
   "metadata": {},
   "source": [
    "### Information content, Number of disease and Lin Score while considering only OMIM"
   ]
  },
  {
   "cell_type": "code",
   "execution_count": 16,
   "metadata": {},
   "outputs": [
    {
     "data": {
      "text/html": [
       "<div>\n",
       "<style scoped>\n",
       "    .dataframe tbody tr th:only-of-type {\n",
       "        vertical-align: middle;\n",
       "    }\n",
       "\n",
       "    .dataframe tbody tr th {\n",
       "        vertical-align: top;\n",
       "    }\n",
       "\n",
       "    .dataframe thead th {\n",
       "        text-align: right;\n",
       "    }\n",
       "</style>\n",
       "<table border=\"1\" class=\"dataframe\">\n",
       "  <thead>\n",
       "    <tr style=\"text-align: right;\">\n",
       "      <th></th>\n",
       "      <th>Phenotype_ID</th>\n",
       "      <th>Number_of_Disease</th>\n",
       "      <th>Information_Content</th>\n",
       "      <th>Lin_Score</th>\n",
       "    </tr>\n",
       "  </thead>\n",
       "  <tbody>\n",
       "    <tr>\n",
       "      <th>0</th>\n",
       "      <td>HP:0002828</td>\n",
       "      <td>10</td>\n",
       "      <td>6.659422</td>\n",
       "      <td>0.532703</td>\n",
       "    </tr>\n",
       "    <tr>\n",
       "      <th>1</th>\n",
       "      <td>HP:0002803</td>\n",
       "      <td>114</td>\n",
       "      <td>4.225809</td>\n",
       "      <td>0.722609</td>\n",
       "    </tr>\n",
       "    <tr>\n",
       "      <th>2</th>\n",
       "      <td>HP:0003121</td>\n",
       "      <td>235</td>\n",
       "      <td>3.502422</td>\n",
       "      <td>0.808258</td>\n",
       "    </tr>\n",
       "    <tr>\n",
       "      <th>3</th>\n",
       "      <td>HP:0004631</td>\n",
       "      <td>2</td>\n",
       "      <td>8.26886</td>\n",
       "      <td>0.453827</td>\n",
       "    </tr>\n",
       "    <tr>\n",
       "      <th>4</th>\n",
       "      <td>HP:0005781</td>\n",
       "      <td>3</td>\n",
       "      <td>7.863395</td>\n",
       "      <td>0.471412</td>\n",
       "    </tr>\n",
       "    <tr>\n",
       "      <th>5</th>\n",
       "      <td>HP:0100492</td>\n",
       "      <td>16</td>\n",
       "      <td>6.189418</td>\n",
       "      <td>0.561187</td>\n",
       "    </tr>\n",
       "    <tr>\n",
       "      <th>6</th>\n",
       "      <td>HP:0005876</td>\n",
       "      <td>3</td>\n",
       "      <td>7.863395</td>\n",
       "      <td>0.471412</td>\n",
       "    </tr>\n",
       "    <tr>\n",
       "      <th>7</th>\n",
       "      <td>HP:0030044</td>\n",
       "      <td>192</td>\n",
       "      <td>3.704512</td>\n",
       "      <td>0.782352</td>\n",
       "    </tr>\n",
       "    <tr>\n",
       "      <th>8</th>\n",
       "      <td>HP:0005997</td>\n",
       "      <td>3</td>\n",
       "      <td>7.863395</td>\n",
       "      <td>0.471412</td>\n",
       "    </tr>\n",
       "  </tbody>\n",
       "</table>\n",
       "</div>"
      ],
      "text/plain": [
       "  Phenotype_ID Number_of_Disease Information_Content Lin_Score\n",
       "0   HP:0002828                10            6.659422  0.532703\n",
       "1   HP:0002803               114            4.225809  0.722609\n",
       "2   HP:0003121               235            3.502422  0.808258\n",
       "3   HP:0004631                 2             8.26886  0.453827\n",
       "4   HP:0005781                 3            7.863395  0.471412\n",
       "5   HP:0100492                16            6.189418  0.561187\n",
       "6   HP:0005876                 3            7.863395  0.471412\n",
       "7   HP:0030044               192            3.704512  0.782352\n",
       "8   HP:0005997                 3            7.863395  0.471412"
      ]
     },
     "execution_count": 16,
     "metadata": {},
     "output_type": "execute_result"
    }
   ],
   "source": [
    "df_OMIM"
   ]
  },
  {
   "cell_type": "code",
   "execution_count": null,
   "metadata": {},
   "outputs": [],
   "source": []
  },
  {
   "cell_type": "code",
   "execution_count": null,
   "metadata": {},
   "outputs": [],
   "source": []
  }
 ],
 "metadata": {
  "kernelspec": {
   "display_name": "Python 3",
   "language": "python",
   "name": "python3"
  },
  "language_info": {
   "codemirror_mode": {
    "name": "ipython",
    "version": 3
   },
   "file_extension": ".py",
   "mimetype": "text/x-python",
   "name": "python",
   "nbconvert_exporter": "python",
   "pygments_lexer": "ipython3",
   "version": "3.8.8"
  }
 },
 "nbformat": 4,
 "nbformat_minor": 4
}
