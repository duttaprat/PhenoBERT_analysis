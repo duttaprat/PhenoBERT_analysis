{
 "cells": [
  {
   "cell_type": "code",
   "execution_count": 57,
   "metadata": {},
   "outputs": [],
   "source": [
    "from __future__ import division\n",
    "import pandas as pd\n",
    "import numpy as np\n",
    "import operator\n",
    "import pickle"
   ]
  },
  {
   "cell_type": "code",
   "execution_count": 58,
   "metadata": {},
   "outputs": [],
   "source": [
    "from hpo_similarity import open_ontology\n",
    "graph, alt_ids, obsolete_ids = open_ontology()"
   ]
  },
  {
   "cell_type": "code",
   "execution_count": 59,
   "metadata": {},
   "outputs": [
    {
     "name": "stdout",
     "output_type": "stream",
     "text": [
      "CPU times: user 6.06 s, sys: 25.6 ms, total: 6.09 s\n",
      "Wall time: 6.09 s\n"
     ]
    }
   ],
   "source": [
    "%%time\n",
    "data = pd.read_excel('phenotype_original.xlsx')\n",
    "g = data.groupby('#DatabaseID')\n",
    "G= g['HPO_ID'].apply(lambda s: s.tolist())\n",
    "OMIM_DICT = G.to_dict()"
   ]
  },
  {
   "cell_type": "code",
   "execution_count": 60,
   "metadata": {},
   "outputs": [
    {
     "name": "stdout",
     "output_type": "stream",
     "text": [
      "CPU times: user 274 ms, sys: 3.02 ms, total: 277 ms\n",
      "Wall time: 277 ms\n"
     ]
    }
   ],
   "source": [
    "%%time\n",
    "graph.tally_hpo_terms(OMIM_DICT)"
   ]
  },
  {
   "cell_type": "code",
   "execution_count": 61,
   "metadata": {},
   "outputs": [],
   "source": [
    "data1= data.head(108580)\n",
    "data2= data.loc[108580:]"
   ]
  },
  {
   "cell_type": "code",
   "execution_count": 62,
   "metadata": {},
   "outputs": [
    {
     "name": "stdout",
     "output_type": "stream",
     "text": [
      "9357\n"
     ]
    }
   ],
   "source": [
    "set_id = set(data[\"HPO_ID\"])\n",
    "print(len(set_id))"
   ]
  },
  {
   "cell_type": "code",
   "execution_count": 63,
   "metadata": {},
   "outputs": [],
   "source": [
    "def lin_score(graph, term1, term2):\n",
    "    a = graph.calculate_information_content(term1)\n",
    "    b = graph.calculate_information_content(term2)\n",
    "    c = 2*graph.get_most_informative_ic(term1,term2)\n",
    "    #print (\"##@@\",a,b,c)\n",
    "    try:\n",
    "        lin_score = c/(b + a)\n",
    "    except ZeroDivisionError:\n",
    "        lin_score = 0\n",
    "    return lin_score"
   ]
  },
  {
   "cell_type": "code",
   "execution_count": 64,
   "metadata": {},
   "outputs": [],
   "source": [
    "df_OMIM_ORPHA = pd.DataFrame(columns=['Phenotype_ID', 'Number_of_Disease', 'Information_Content','Lin_Score'])"
   ]
  },
  {
   "cell_type": "code",
   "execution_count": 65,
   "metadata": {},
   "outputs": [
    {
     "data": {
      "text/plain": [
       "{'HP:0002803',\n",
       " 'HP:0002828',\n",
       " 'HP:0003121',\n",
       " 'HP:0004631',\n",
       " 'HP:0005781',\n",
       " 'HP:0005876',\n",
       " 'HP:0005997',\n",
       " 'HP:0030044',\n",
       " 'HP:0100492'}"
      ]
     },
     "execution_count": 65,
     "metadata": {},
     "output_type": "execute_result"
    }
   ],
   "source": [
    "children = graph.get_immediate_descendants('HP:0001371')\n",
    "children"
   ]
  },
  {
   "cell_type": "code",
   "execution_count": 70,
   "metadata": {},
   "outputs": [],
   "source": [
    "i=0\n",
    "for child in children:\n",
    "    df_OMIM_ORPHA.loc[i,['Phenotype_ID']]= child\n",
    "    #print (child)\n",
    "    #print (graph.calculate_information_content(child))\n",
    "    #print (graph.get_term_count(child))\n",
    "    #print (graph.get_ids_per_term(child))\n",
    "    #print (lin_score(child, 'HP:0001371'))\n",
    "    df_OMIM_ORPHA.loc[i,['Number_of_Disease']]= graph.get_term_count(child)\n",
    "    df_OMIM_ORPHA.loc[i,['Information_Content']]= graph.calculate_information_content(child)\n",
    "    df_OMIM_ORPHA.loc[i,['Lin_Score']]= lin_score(graph, child, 'HP:0001371')\n",
    "    i= i+1"
   ]
  },
  {
   "cell_type": "code",
   "execution_count": 71,
   "metadata": {},
   "outputs": [
    {
     "data": {
      "text/html": [
       "<div>\n",
       "<style scoped>\n",
       "    .dataframe tbody tr th:only-of-type {\n",
       "        vertical-align: middle;\n",
       "    }\n",
       "\n",
       "    .dataframe tbody tr th {\n",
       "        vertical-align: top;\n",
       "    }\n",
       "\n",
       "    .dataframe thead th {\n",
       "        text-align: right;\n",
       "    }\n",
       "</style>\n",
       "<table border=\"1\" class=\"dataframe\">\n",
       "  <thead>\n",
       "    <tr style=\"text-align: right;\">\n",
       "      <th></th>\n",
       "      <th>Phenotype_ID</th>\n",
       "      <th>Number_of_Disease</th>\n",
       "      <th>Information_Content</th>\n",
       "      <th>Lin_Score</th>\n",
       "    </tr>\n",
       "  </thead>\n",
       "  <tbody>\n",
       "    <tr>\n",
       "      <th>0</th>\n",
       "      <td>HP:0030044</td>\n",
       "      <td>417</td>\n",
       "      <td>3.339118</td>\n",
       "      <td>0.849684</td>\n",
       "    </tr>\n",
       "    <tr>\n",
       "      <th>1</th>\n",
       "      <td>HP:0003121</td>\n",
       "      <td>503</td>\n",
       "      <td>3.151614</td>\n",
       "      <td>0.878043</td>\n",
       "    </tr>\n",
       "    <tr>\n",
       "      <th>2</th>\n",
       "      <td>HP:0002803</td>\n",
       "      <td>174</td>\n",
       "      <td>4.213149</td>\n",
       "      <td>0.738503</td>\n",
       "    </tr>\n",
       "    <tr>\n",
       "      <th>3</th>\n",
       "      <td>HP:0100492</td>\n",
       "      <td>31</td>\n",
       "      <td>5.938217</td>\n",
       "      <td>0.586924</td>\n",
       "    </tr>\n",
       "    <tr>\n",
       "      <th>4</th>\n",
       "      <td>HP:0004631</td>\n",
       "      <td>7</td>\n",
       "      <td>7.426294</td>\n",
       "      <td>0.498638</td>\n",
       "    </tr>\n",
       "    <tr>\n",
       "      <th>5</th>\n",
       "      <td>HP:0005997</td>\n",
       "      <td>3</td>\n",
       "      <td>8.273592</td>\n",
       "      <td>0.4593</td>\n",
       "    </tr>\n",
       "    <tr>\n",
       "      <th>6</th>\n",
       "      <td>HP:0005876</td>\n",
       "      <td>9</td>\n",
       "      <td>7.17498</td>\n",
       "      <td>0.511636</td>\n",
       "    </tr>\n",
       "    <tr>\n",
       "      <th>7</th>\n",
       "      <td>HP:0005781</td>\n",
       "      <td>13</td>\n",
       "      <td>6.807255</td>\n",
       "      <td>0.531923</td>\n",
       "    </tr>\n",
       "    <tr>\n",
       "      <th>8</th>\n",
       "      <td>HP:0002828</td>\n",
       "      <td>42</td>\n",
       "      <td>5.634534</td>\n",
       "      <td>0.608926</td>\n",
       "    </tr>\n",
       "  </tbody>\n",
       "</table>\n",
       "</div>"
      ],
      "text/plain": [
       "  Phenotype_ID Number_of_Disease Information_Content Lin_Score\n",
       "0   HP:0030044               417            3.339118  0.849684\n",
       "1   HP:0003121               503            3.151614  0.878043\n",
       "2   HP:0002803               174            4.213149  0.738503\n",
       "3   HP:0100492                31            5.938217  0.586924\n",
       "4   HP:0004631                 7            7.426294  0.498638\n",
       "5   HP:0005997                 3            8.273592    0.4593\n",
       "6   HP:0005876                 9             7.17498  0.511636\n",
       "7   HP:0005781                13            6.807255  0.531923\n",
       "8   HP:0002828                42            5.634534  0.608926"
      ]
     },
     "execution_count": 71,
     "metadata": {},
     "output_type": "execute_result"
    }
   ],
   "source": [
    "df_OMIM_ORPHA"
   ]
  },
  {
   "cell_type": "code",
   "execution_count": 72,
   "metadata": {
    "scrolled": false
   },
   "outputs": [],
   "source": [
    "graph1, alt_ids, obsolete_ids = open_ontology()\n",
    "g1 = data1.groupby('#DatabaseID')\n",
    "G1= g1['HPO_ID'].apply(lambda s: s.tolist())\n",
    "OMIM_DICT1 = G1.to_dict()\n",
    "graph1.tally_hpo_terms(OMIM_DICT1)"
   ]
  },
  {
   "cell_type": "code",
   "execution_count": 73,
   "metadata": {},
   "outputs": [],
   "source": [
    "df_OMIM = pd.DataFrame(columns=['Phenotype_ID', 'Number_of_Disease', 'Information_Content','Lin_Score'])\n",
    "i=0\n",
    "for child in children:\n",
    "    df_OMIM.loc[i,['Phenotype_ID']]= child\n",
    "    #print (child)\n",
    "    #print (graph1.calculate_information_content(child))\n",
    "    #print (graph1.get_term_count(child))\n",
    "    #print (graph.get_ids_per_term(child))\n",
    "    #print (lin_score(graph1, child, 'HP:0001371'))\n",
    "    #print(\"\\n\")\n",
    "    df_OMIM.loc[i,['Number_of_Disease']]= graph1.get_term_count(child)\n",
    "    df_OMIM.loc[i,['Information_Content']]= graph1.calculate_information_content(child)\n",
    "    df_OMIM.loc[i,['Lin_Score']]= lin_score(graph1, child, 'HP:0001371')\n",
    "    i= i+1"
   ]
  },
  {
   "cell_type": "code",
   "execution_count": 74,
   "metadata": {},
   "outputs": [
    {
     "data": {
      "text/html": [
       "<div>\n",
       "<style scoped>\n",
       "    .dataframe tbody tr th:only-of-type {\n",
       "        vertical-align: middle;\n",
       "    }\n",
       "\n",
       "    .dataframe tbody tr th {\n",
       "        vertical-align: top;\n",
       "    }\n",
       "\n",
       "    .dataframe thead th {\n",
       "        text-align: right;\n",
       "    }\n",
       "</style>\n",
       "<table border=\"1\" class=\"dataframe\">\n",
       "  <thead>\n",
       "    <tr style=\"text-align: right;\">\n",
       "      <th></th>\n",
       "      <th>Phenotype_ID</th>\n",
       "      <th>Number_of_Disease</th>\n",
       "      <th>Information_Content</th>\n",
       "      <th>Lin_Score</th>\n",
       "    </tr>\n",
       "  </thead>\n",
       "  <tbody>\n",
       "    <tr>\n",
       "      <th>0</th>\n",
       "      <td>HP:0030044</td>\n",
       "      <td>192</td>\n",
       "      <td>3.704512</td>\n",
       "      <td>0.782352</td>\n",
       "    </tr>\n",
       "    <tr>\n",
       "      <th>1</th>\n",
       "      <td>HP:0003121</td>\n",
       "      <td>235</td>\n",
       "      <td>3.502422</td>\n",
       "      <td>0.808258</td>\n",
       "    </tr>\n",
       "    <tr>\n",
       "      <th>2</th>\n",
       "      <td>HP:0002803</td>\n",
       "      <td>114</td>\n",
       "      <td>4.225809</td>\n",
       "      <td>0.722609</td>\n",
       "    </tr>\n",
       "    <tr>\n",
       "      <th>3</th>\n",
       "      <td>HP:0100492</td>\n",
       "      <td>16</td>\n",
       "      <td>6.189418</td>\n",
       "      <td>0.561187</td>\n",
       "    </tr>\n",
       "    <tr>\n",
       "      <th>4</th>\n",
       "      <td>HP:0004631</td>\n",
       "      <td>2</td>\n",
       "      <td>8.26886</td>\n",
       "      <td>0.453827</td>\n",
       "    </tr>\n",
       "    <tr>\n",
       "      <th>5</th>\n",
       "      <td>HP:0005997</td>\n",
       "      <td>3</td>\n",
       "      <td>7.863395</td>\n",
       "      <td>0.471412</td>\n",
       "    </tr>\n",
       "    <tr>\n",
       "      <th>6</th>\n",
       "      <td>HP:0005876</td>\n",
       "      <td>3</td>\n",
       "      <td>7.863395</td>\n",
       "      <td>0.471412</td>\n",
       "    </tr>\n",
       "    <tr>\n",
       "      <th>7</th>\n",
       "      <td>HP:0005781</td>\n",
       "      <td>3</td>\n",
       "      <td>7.863395</td>\n",
       "      <td>0.471412</td>\n",
       "    </tr>\n",
       "    <tr>\n",
       "      <th>8</th>\n",
       "      <td>HP:0002828</td>\n",
       "      <td>10</td>\n",
       "      <td>6.659422</td>\n",
       "      <td>0.532703</td>\n",
       "    </tr>\n",
       "  </tbody>\n",
       "</table>\n",
       "</div>"
      ],
      "text/plain": [
       "  Phenotype_ID Number_of_Disease Information_Content Lin_Score\n",
       "0   HP:0030044               192            3.704512  0.782352\n",
       "1   HP:0003121               235            3.502422  0.808258\n",
       "2   HP:0002803               114            4.225809  0.722609\n",
       "3   HP:0100492                16            6.189418  0.561187\n",
       "4   HP:0004631                 2             8.26886  0.453827\n",
       "5   HP:0005997                 3            7.863395  0.471412\n",
       "6   HP:0005876                 3            7.863395  0.471412\n",
       "7   HP:0005781                 3            7.863395  0.471412\n",
       "8   HP:0002828                10            6.659422  0.532703"
      ]
     },
     "execution_count": 74,
     "metadata": {},
     "output_type": "execute_result"
    }
   ],
   "source": [
    "df_OMIM"
   ]
  },
  {
   "cell_type": "code",
   "execution_count": null,
   "metadata": {},
   "outputs": [],
   "source": []
  }
 ],
 "metadata": {
  "kernelspec": {
   "display_name": "Python 3",
   "language": "python",
   "name": "python3"
  },
  "language_info": {
   "codemirror_mode": {
    "name": "ipython",
    "version": 3
   },
   "file_extension": ".py",
   "mimetype": "text/x-python",
   "name": "python",
   "nbconvert_exporter": "python",
   "pygments_lexer": "ipython3",
   "version": "3.8.8"
  }
 },
 "nbformat": 4,
 "nbformat_minor": 4
}
