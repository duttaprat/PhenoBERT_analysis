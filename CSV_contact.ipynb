{
 "cells": [
  {
   "cell_type": "code",
   "execution_count": 1,
   "id": "448baa3a",
   "metadata": {},
   "outputs": [],
   "source": [
    "import os\n",
    "import glob\n",
    "import pandas as pd\n",
    "# os.chdir(\"/directory\")"
   ]
  },
  {
   "cell_type": "code",
   "execution_count": 3,
   "id": "be8c2a38",
   "metadata": {},
   "outputs": [],
   "source": [
    "os.chdir(\"Output\")"
   ]
  },
  {
   "cell_type": "code",
   "execution_count": 4,
   "id": "b09ce719",
   "metadata": {},
   "outputs": [],
   "source": [
    "file_extension = '.csv'\n",
    "all_filenames = [i for i in glob.glob(f\"*{file_extension}\")]"
   ]
  },
  {
   "cell_type": "code",
   "execution_count": 10,
   "id": "007fd224",
   "metadata": {},
   "outputs": [
    {
     "data": {
      "text/plain": [
       "['Ancestor_group_ranking_synonym_1000.csv',\n",
       " 'Ancestor_group_ranking_synonym_2000.csv',\n",
       " 'Ancestor_group_ranking_synonym_3000.csv',\n",
       " 'Ancestor_group_ranking_synonym_4000.csv',\n",
       " 'Ancestor_group_ranking_synonym_4500.csv',\n",
       " 'Ancestor_group_ranking_synonym_6000.csv',\n",
       " 'Ancestor_group_ranking_synonym_7000.csv',\n",
       " 'Ancestor_group_ranking_synonym_8000.csv']"
      ]
     },
     "execution_count": 10,
     "metadata": {},
     "output_type": "execute_result"
    }
   ],
   "source": [
    "all_filenames"
   ]
  },
  {
   "cell_type": "code",
   "execution_count": 11,
   "id": "9a95bad3",
   "metadata": {},
   "outputs": [
    {
     "data": {
      "text/plain": [
       "['Ancestor_group_ranking_synonym_1000.csv',\n",
       " 'Ancestor_group_ranking_synonym_2000.csv',\n",
       " 'Ancestor_group_ranking_synonym_3000.csv',\n",
       " 'Ancestor_group_ranking_synonym_4000.csv',\n",
       " 'Ancestor_group_ranking_synonym_4500.csv',\n",
       " 'Ancestor_group_ranking_synonym_6000.csv',\n",
       " 'Ancestor_group_ranking_synonym_7000.csv',\n",
       " 'Ancestor_group_ranking_synonym_8000.csv']"
      ]
     },
     "execution_count": 11,
     "metadata": {},
     "output_type": "execute_result"
    }
   ],
   "source": [
    "all_filenames.sort()\n",
    "all_filenames"
   ]
  },
  {
   "cell_type": "code",
   "execution_count": 17,
   "id": "928f4582",
   "metadata": {},
   "outputs": [
    {
     "data": {
      "text/html": [
       "<div>\n",
       "<style scoped>\n",
       "    .dataframe tbody tr th:only-of-type {\n",
       "        vertical-align: middle;\n",
       "    }\n",
       "\n",
       "    .dataframe tbody tr th {\n",
       "        vertical-align: top;\n",
       "    }\n",
       "\n",
       "    .dataframe thead th {\n",
       "        text-align: right;\n",
       "    }\n",
       "</style>\n",
       "<table border=\"1\" class=\"dataframe\">\n",
       "  <thead>\n",
       "    <tr style=\"text-align: right;\">\n",
       "      <th></th>\n",
       "      <th>HPO_ID</th>\n",
       "      <th>Sentence</th>\n",
       "      <th>Ancestor</th>\n",
       "      <th>Rank</th>\n",
       "      <th>Remarks</th>\n",
       "    </tr>\n",
       "  </thead>\n",
       "  <tbody>\n",
       "    <tr>\n",
       "      <th>0</th>\n",
       "      <td>HP:0025461</td>\n",
       "      <td>Any anomaly of cell structure.</td>\n",
       "      <td>HP:0025354</td>\n",
       "      <td>3</td>\n",
       "      <td>Definition</td>\n",
       "    </tr>\n",
       "    <tr>\n",
       "      <th>1</th>\n",
       "      <td>HP:0031352</td>\n",
       "      <td>An unpleasant sensation of tightness or pressu...</td>\n",
       "      <td>HP:0025142</td>\n",
       "      <td>3</td>\n",
       "      <td>Definition</td>\n",
       "    </tr>\n",
       "    <tr>\n",
       "      <th>2</th>\n",
       "      <td>HP:0000464</td>\n",
       "      <td>An abnormality of the neck.</td>\n",
       "      <td>HP:0000152</td>\n",
       "      <td>0</td>\n",
       "      <td>Synonym</td>\n",
       "    </tr>\n",
       "    <tr>\n",
       "      <th>3</th>\n",
       "      <td>HP:0031863</td>\n",
       "      <td>The presence of an infectious agent in the blo...</td>\n",
       "      <td>HP:0001939</td>\n",
       "      <td>10</td>\n",
       "      <td>Synonym</td>\n",
       "    </tr>\n",
       "    <tr>\n",
       "      <th>4</th>\n",
       "      <td>HP:0001928</td>\n",
       "      <td>An abnormality of the process of blood coagula...</td>\n",
       "      <td>HP:0001871</td>\n",
       "      <td>4</td>\n",
       "      <td>Synonym</td>\n",
       "    </tr>\n",
       "    <tr>\n",
       "      <th>...</th>\n",
       "      <td>...</td>\n",
       "      <td>...</td>\n",
       "      <td>...</td>\n",
       "      <td>...</td>\n",
       "      <td>...</td>\n",
       "    </tr>\n",
       "    <tr>\n",
       "      <th>938</th>\n",
       "      <td>HP:0011046</td>\n",
       "      <td>Agenesis of upper central primary incisor.</td>\n",
       "      <td>HP:0000152</td>\n",
       "      <td>5</td>\n",
       "      <td>Synonym</td>\n",
       "    </tr>\n",
       "    <tr>\n",
       "      <th>939</th>\n",
       "      <td>HP:0011047</td>\n",
       "      <td>Agenesis of lower primary incisor.</td>\n",
       "      <td>HP:0000152</td>\n",
       "      <td>6</td>\n",
       "      <td>Synonym</td>\n",
       "    </tr>\n",
       "    <tr>\n",
       "      <th>940</th>\n",
       "      <td>HP:0011045</td>\n",
       "      <td>Agenesis of upper secondary incisor.</td>\n",
       "      <td>HP:0000152</td>\n",
       "      <td>5</td>\n",
       "      <td>Synonym</td>\n",
       "    </tr>\n",
       "    <tr>\n",
       "      <th>941</th>\n",
       "      <td>HP:0011048</td>\n",
       "      <td>Agenesis of lower secondary incisor.</td>\n",
       "      <td>HP:0000152</td>\n",
       "      <td>5</td>\n",
       "      <td>Synonym</td>\n",
       "    </tr>\n",
       "    <tr>\n",
       "      <th>942</th>\n",
       "      <td>HP:0011050</td>\n",
       "      <td>Agenesis of one or more upper lateral secondar...</td>\n",
       "      <td>HP:0000152</td>\n",
       "      <td>3</td>\n",
       "      <td>Synonym</td>\n",
       "    </tr>\n",
       "  </tbody>\n",
       "</table>\n",
       "<p>7937 rows × 5 columns</p>\n",
       "</div>"
      ],
      "text/plain": [
       "         HPO_ID                                           Sentence  \\\n",
       "0    HP:0025461                     Any anomaly of cell structure.   \n",
       "1    HP:0031352  An unpleasant sensation of tightness or pressu...   \n",
       "2    HP:0000464                        An abnormality of the neck.   \n",
       "3    HP:0031863  The presence of an infectious agent in the blo...   \n",
       "4    HP:0001928  An abnormality of the process of blood coagula...   \n",
       "..          ...                                                ...   \n",
       "938  HP:0011046         Agenesis of upper central primary incisor.   \n",
       "939  HP:0011047                 Agenesis of lower primary incisor.   \n",
       "940  HP:0011045               Agenesis of upper secondary incisor.   \n",
       "941  HP:0011048               Agenesis of lower secondary incisor.   \n",
       "942  HP:0011050  Agenesis of one or more upper lateral secondar...   \n",
       "\n",
       "       Ancestor  Rank     Remarks  \n",
       "0    HP:0025354     3  Definition  \n",
       "1    HP:0025142     3  Definition  \n",
       "2    HP:0000152     0     Synonym  \n",
       "3    HP:0001939    10     Synonym  \n",
       "4    HP:0001871     4     Synonym  \n",
       "..          ...   ...         ...  \n",
       "938  HP:0000152     5     Synonym  \n",
       "939  HP:0000152     6     Synonym  \n",
       "940  HP:0000152     5     Synonym  \n",
       "941  HP:0000152     5     Synonym  \n",
       "942  HP:0000152     3     Synonym  \n",
       "\n",
       "[7937 rows x 5 columns]"
      ]
     },
     "execution_count": 17,
     "metadata": {},
     "output_type": "execute_result"
    }
   ],
   "source": [
    "combined_csv_data = pd.concat([pd.read_csv(f) for f in all_filenames])\n",
    "combined_csv_data.drop_duplicates()"
   ]
  },
  {
   "cell_type": "code",
   "execution_count": 19,
   "id": "e7fc4b13",
   "metadata": {},
   "outputs": [],
   "source": [
    "combined_csv_data.to_csv(\"../ancestor_ranking_synonym_new.csv\", index= False)"
   ]
  },
  {
   "cell_type": "code",
   "execution_count": null,
   "id": "e9bbcb03",
   "metadata": {},
   "outputs": [],
   "source": []
  }
 ],
 "metadata": {
  "kernelspec": {
   "display_name": "Python 3",
   "language": "python",
   "name": "python3"
  },
  "language_info": {
   "codemirror_mode": {
    "name": "ipython",
    "version": 3
   },
   "file_extension": ".py",
   "mimetype": "text/x-python",
   "name": "python",
   "nbconvert_exporter": "python",
   "pygments_lexer": "ipython3",
   "version": "3.8.8"
  }
 },
 "nbformat": 4,
 "nbformat_minor": 5
}
