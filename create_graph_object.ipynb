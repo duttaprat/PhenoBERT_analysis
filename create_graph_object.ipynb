{
 "cells": [
  {
   "cell_type": "code",
   "execution_count": 1,
   "id": "ea914e6e",
   "metadata": {},
   "outputs": [],
   "source": [
    "from __future__ import division\n",
    "import pandas as pd\n",
    "import numpy as np\n",
    "import operator\n",
    "import pickle"
   ]
  },
  {
   "cell_type": "code",
   "execution_count": 2,
   "id": "02476b70",
   "metadata": {},
   "outputs": [],
   "source": [
    "from hpo_similarity import open_ontology\n",
    "graph, alt_ids, obsolete_ids = open_ontology()"
   ]
  },
  {
   "cell_type": "code",
   "execution_count": 3,
   "id": "a79adb1e",
   "metadata": {},
   "outputs": [
    {
     "name": "stdout",
     "output_type": "stream",
     "text": [
      "CPU times: user 5.72 s, sys: 60.2 ms, total: 5.78 s\n",
      "Wall time: 5.95 s\n"
     ]
    }
   ],
   "source": [
    "%%time\n",
    "data = pd.read_excel('phenotype_original.xlsx')\n",
    "g = data.groupby('#DatabaseID')\n",
    "G= g['HPO_ID'].apply(lambda s: s.tolist())\n",
    "OMIM_DICT = G.to_dict()"
   ]
  },
  {
   "cell_type": "code",
   "execution_count": 4,
   "id": "30ab34ed",
   "metadata": {},
   "outputs": [],
   "source": [
    "graph.tally_hpo_terms(OMIM_DICT)"
   ]
  },
  {
   "cell_type": "code",
   "execution_count": 5,
   "id": "fbb258ee",
   "metadata": {},
   "outputs": [],
   "source": [
    "with open('graph_ontology.pkl', 'wb') as output:\n",
    "    pickle.dump(graph, output, pickle.HIGHEST_PROTOCOL)"
   ]
  },
  {
   "cell_type": "code",
   "execution_count": 6,
   "id": "201e1681",
   "metadata": {},
   "outputs": [],
   "source": [
    "with open('graph_ontology.pkl', 'rb') as input:\n",
    "    graph_load = pickle.load(input)"
   ]
  },
  {
   "cell_type": "code",
   "execution_count": 7,
   "id": "b188e145",
   "metadata": {},
   "outputs": [
    {
     "data": {
      "text/plain": [
       "2.4664508105562772"
      ]
     },
     "execution_count": 7,
     "metadata": {},
     "output_type": "execute_result"
    }
   ],
   "source": [
    "graph_load.calculate_information_content('HP:0001371')"
   ]
  },
  {
   "cell_type": "code",
   "execution_count": null,
   "id": "664977be",
   "metadata": {},
   "outputs": [],
   "source": []
  },
  {
   "cell_type": "code",
   "execution_count": null,
   "id": "4db51192",
   "metadata": {},
   "outputs": [],
   "source": []
  },
  {
   "cell_type": "code",
   "execution_count": null,
   "id": "379f6bf1",
   "metadata": {},
   "outputs": [],
   "source": []
  }
 ],
 "metadata": {
  "kernelspec": {
   "display_name": "Python 3",
   "language": "python",
   "name": "python3"
  },
  "language_info": {
   "codemirror_mode": {
    "name": "ipython",
    "version": 3
   },
   "file_extension": ".py",
   "mimetype": "text/x-python",
   "name": "python",
   "nbconvert_exporter": "python",
   "pygments_lexer": "ipython3",
   "version": "3.8.8"
  }
 },
 "nbformat": 4,
 "nbformat_minor": 5
}
