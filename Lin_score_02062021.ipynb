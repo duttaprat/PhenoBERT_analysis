{
 "cells": [
  {
   "cell_type": "code",
   "execution_count": 1,
   "metadata": {},
   "outputs": [],
   "source": [
    "from __future__ import division\n",
    "import pandas as pd\n",
    "import numpy as np\n",
    "import operator\n",
    "import pickle"
   ]
  },
  {
   "cell_type": "code",
   "execution_count": 2,
   "metadata": {},
   "outputs": [
    {
     "ename": "ModuleNotFoundError",
     "evalue": "No module named 'hpo_similarity'",
     "output_type": "error",
     "traceback": [
      "\u001b[0;31m---------------------------------------------------------------------------\u001b[0m",
      "\u001b[0;31mModuleNotFoundError\u001b[0m                       Traceback (most recent call last)",
      "\u001b[0;32m<ipython-input-2-c964819aa270>\u001b[0m in \u001b[0;36m<module>\u001b[0;34m\u001b[0m\n\u001b[0;32m----> 1\u001b[0;31m \u001b[0;32mfrom\u001b[0m \u001b[0mhpo_similarity\u001b[0m \u001b[0;32mimport\u001b[0m \u001b[0mopen_ontology\u001b[0m\u001b[0;34m\u001b[0m\u001b[0;34m\u001b[0m\u001b[0m\n\u001b[0m\u001b[1;32m      2\u001b[0m \u001b[0mgraph\u001b[0m\u001b[0;34m,\u001b[0m \u001b[0malt_ids\u001b[0m\u001b[0;34m,\u001b[0m \u001b[0mobsolete_ids\u001b[0m \u001b[0;34m=\u001b[0m \u001b[0mopen_ontology\u001b[0m\u001b[0;34m(\u001b[0m\u001b[0;34m)\u001b[0m\u001b[0;34m\u001b[0m\u001b[0;34m\u001b[0m\u001b[0m\n",
      "\u001b[0;31mModuleNotFoundError\u001b[0m: No module named 'hpo_similarity'"
     ]
    }
   ],
   "source": [
    "from hpo_similarity import open_ontology\n",
    "graph, alt_ids, obsolete_ids = open_ontology()"
   ]
  },
  {
   "cell_type": "code",
   "execution_count": 3,
   "metadata": {},
   "outputs": [
    {
     "name": "stdout",
     "output_type": "stream",
     "text": [
      "Wall time: 9.34 s\n"
     ]
    }
   ],
   "source": [
    "%%time\n",
    "data = pd.read_excel('phenotype_original.xlsx')\n",
    "g = data.groupby('#DatabaseID')\n",
    "G= g['HPO_ID'].apply(lambda s: s.tolist())\n",
    "OMIM_DICT = G.to_dict()"
   ]
  },
  {
   "cell_type": "code",
   "execution_count": 4,
   "metadata": {},
   "outputs": [
    {
     "name": "stdout",
     "output_type": "stream",
     "text": [
      "Wall time: 477 ms\n"
     ]
    }
   ],
   "source": [
    "%%time\n",
    "graph.tally_hpo_terms(OMIM_DICT)"
   ]
  },
  {
   "cell_type": "code",
   "execution_count": 51,
   "metadata": {},
   "outputs": [],
   "source": [
    "# file_to_store = open(\"graph_object2.pickle\", \"wb\")\n",
    "# pickle.dump(graph, file_to_store)\n",
    "# file_to_store.close()"
   ]
  },
  {
   "cell_type": "markdown",
   "metadata": {},
   "source": [
    "## Finding OMIM list for particular Phenotype"
   ]
  },
  {
   "cell_type": "code",
   "execution_count": 5,
   "metadata": {},
   "outputs": [],
   "source": [
    "g = data.groupby('HPO_ID')\n",
    "G= g['#DatabaseID'].apply(lambda s: s.tolist())\n",
    "HPO_DICT = G.to_dict()"
   ]
  },
  {
   "cell_type": "code",
   "execution_count": 6,
   "metadata": {
    "scrolled": true
   },
   "outputs": [
    {
     "data": {
      "text/plain": [
       "['OMIM:616505',\n",
       " 'OMIM:618460',\n",
       " 'OMIM:254940',\n",
       " 'OMIM:608149',\n",
       " 'OMIM:613723',\n",
       " 'OMIM:603511',\n",
       " 'OMIM:200700',\n",
       " 'OMIM:609284',\n",
       " 'OMIM:616549',\n",
       " 'OMIM:201470',\n",
       " 'OMIM:618323',\n",
       " 'OMIM:618065',\n",
       " 'OMIM:252940',\n",
       " 'OMIM:609628',\n",
       " 'OMIM:309520',\n",
       " 'OMIM:616866',\n",
       " 'OMIM:616683',\n",
       " 'OMIM:601560',\n",
       " 'OMIM:300989',\n",
       " 'OMIM:617452',\n",
       " 'OMIM:615348',\n",
       " 'OMIM:614067',\n",
       " 'OMIM:225790',\n",
       " 'OMIM:611105',\n",
       " 'OMIM:194050',\n",
       " 'OMIM:618651',\n",
       " 'OMIM:615883',\n",
       " 'OMIM:221810',\n",
       " 'OMIM:617393',\n",
       " 'OMIM:614498',\n",
       " 'OMIM:613205',\n",
       " 'OMIM:618237',\n",
       " 'OMIM:618076',\n",
       " 'OMIM:601110',\n",
       " 'OMIM:309510',\n",
       " 'OMIM:160565',\n",
       " 'OMIM:156530',\n",
       " 'OMIM:601675',\n",
       " 'OMIM:616733',\n",
       " 'OMIM:608423',\n",
       " 'OMIM:248800',\n",
       " 'OMIM:614594',\n",
       " 'OMIM:618346',\n",
       " 'OMIM:613744',\n",
       " 'OMIM:618291',\n",
       " 'OMIM:616228',\n",
       " 'OMIM:602771',\n",
       " 'OMIM:215150',\n",
       " 'OMIM:611705',\n",
       " 'OMIM:300166',\n",
       " 'OMIM:616326',\n",
       " 'OMIM:616204',\n",
       " 'OMIM:617762',\n",
       " 'OMIM:129200',\n",
       " 'OMIM:616287',\n",
       " 'OMIM:226600',\n",
       " 'OMIM:615351',\n",
       " 'OMIM:609180',\n",
       " 'OMIM:617301',\n",
       " 'OMIM:616470',\n",
       " 'OMIM:259050',\n",
       " 'OMIM:300232',\n",
       " 'OMIM:618469',\n",
       " 'OMIM:618393',\n",
       " 'OMIM:616007',\n",
       " 'OMIM:615368',\n",
       " 'OMIM:312150',\n",
       " 'OMIM:300696',\n",
       " 'OMIM:613327',\n",
       " 'OMIM:304340',\n",
       " 'OMIM:609260',\n",
       " 'OMIM:618414',\n",
       " 'OMIM:618524',\n",
       " 'OMIM:614462',\n",
       " 'OMIM:300243',\n",
       " 'OMIM:613330',\n",
       " 'OMIM:615553',\n",
       " 'OMIM:607855',\n",
       " 'OMIM:256030',\n",
       " 'OMIM:616809',\n",
       " 'OMIM:617201',\n",
       " 'OMIM:617396',\n",
       " 'OMIM:256040',\n",
       " 'OMIM:215100',\n",
       " 'OMIM:603513',\n",
       " 'OMIM:609541',\n",
       " 'OMIM:601803',\n",
       " 'OMIM:618635',\n",
       " 'OMIM:614457',\n",
       " 'OMIM:618404',\n",
       " 'OMIM:612079',\n",
       " 'OMIM:300523',\n",
       " 'OMIM:617105',\n",
       " 'OMIM:310200',\n",
       " 'OMIM:615919',\n",
       " 'OMIM:166700',\n",
       " 'OMIM:615249',\n",
       " 'OMIM:143095',\n",
       " 'OMIM:618815',\n",
       " 'OMIM:618397',\n",
       " 'OMIM:618005',\n",
       " 'OMIM:301830',\n",
       " 'OMIM:617561',\n",
       " 'OMIM:264090',\n",
       " 'OMIM:212065',\n",
       " 'OMIM:208050',\n",
       " 'OMIM:612233',\n",
       " 'OMIM:609220',\n",
       " 'OMIM:617599',\n",
       " 'OMIM:271225',\n",
       " 'OMIM:147791',\n",
       " 'OMIM:300717',\n",
       " 'OMIM:607706',\n",
       " 'OMIM:616165',\n",
       " 'OMIM:614066',\n",
       " 'OMIM:248370',\n",
       " 'OMIM:614225',\n",
       " 'OMIM:224690',\n",
       " 'OMIM:600416',\n",
       " 'OMIM:251240',\n",
       " 'OMIM:609162',\n",
       " 'OMIM:312920',\n",
       " 'OMIM:218000',\n",
       " 'OMIM:300868',\n",
       " 'OMIM:617468',\n",
       " 'OMIM:222765',\n",
       " 'OMIM:614222',\n",
       " 'OMIM:610015',\n",
       " 'OMIM:309590',\n",
       " 'OMIM:617303',\n",
       " 'OMIM:253800',\n",
       " 'OMIM:613154',\n",
       " 'OMIM:618298',\n",
       " 'OMIM:117000',\n",
       " 'OMIM:609308',\n",
       " 'OMIM:615547',\n",
       " 'OMIM:613155',\n",
       " 'OMIM:614833',\n",
       " 'OMIM:210710',\n",
       " 'OMIM:616867',\n",
       " 'OMIM:617072',\n",
       " 'OMIM:614098',\n",
       " 'OMIM:184900',\n",
       " 'OMIM:613869',\n",
       " 'OMIM:618658',\n",
       " 'OMIM:180849',\n",
       " 'OMIM:609456',\n",
       " 'OMIM:615491',\n",
       " 'OMIM:618201',\n",
       " 'OMIM:614255',\n",
       " 'OMIM:310400',\n",
       " 'OMIM:147800',\n",
       " 'OMIM:608612',\n",
       " 'OMIM:618006',\n",
       " 'OMIM:618266',\n",
       " 'OMIM:252011',\n",
       " 'OMIM:309900',\n",
       " 'OMIM:617591',\n",
       " 'OMIM:617664',\n",
       " 'OMIM:608093',\n",
       " 'OMIM:608540',\n",
       " 'OMIM:614961',\n",
       " 'OMIM:612138',\n",
       " 'OMIM:100050',\n",
       " 'OMIM:255995',\n",
       " 'OMIM:616263',\n",
       " 'OMIM:310440',\n",
       " 'OMIM:253290',\n",
       " 'OMIM:616313',\n",
       " 'OMIM:613156',\n",
       " 'OMIM:254090',\n",
       " 'OMIM:154700',\n",
       " 'OMIM:605039',\n",
       " 'OMIM:617140',\n",
       " 'OMIM:616471',\n",
       " 'OMIM:608099',\n",
       " 'OMIM:271640',\n",
       " 'OMIM:275210',\n",
       " 'OMIM:616330',\n",
       " 'OMIM:301041',\n",
       " 'OMIM:617562',\n",
       " 'OMIM:268650',\n",
       " 'OMIM:253600',\n",
       " 'OMIM:618484',\n",
       " 'OMIM:230000',\n",
       " 'OMIM:263210',\n",
       " 'OMIM:160150',\n",
       " 'OMIM:611588',\n",
       " 'OMIM:118230',\n",
       " 'OMIM:278760',\n",
       " 'OMIM:618011',\n",
       " 'OMIM:612952',\n",
       " 'OMIM:616897',\n",
       " 'OMIM:616881',\n",
       " 'OMIM:602471',\n",
       " 'OMIM:253220',\n",
       " 'OMIM:617106',\n",
       " 'OMIM:203550',\n",
       " 'OMIM:609285',\n",
       " 'OMIM:618186',\n",
       " 'OMIM:207410',\n",
       " 'OMIM:616081',\n",
       " 'OMIM:616222',\n",
       " 'OMIM:253700',\n",
       " 'OMIM:614008',\n",
       " 'OMIM:615381',\n",
       " 'OMIM:168400',\n",
       " 'OMIM:615663',\n",
       " 'OMIM:300718',\n",
       " 'OMIM:300884',\n",
       " 'OMIM:618324',\n",
       " 'OMIM:618379',\n",
       " 'OMIM:614653',\n",
       " 'OMIM:308050',\n",
       " 'OMIM:617864',\n",
       " 'OMIM:614915',\n",
       " 'OMIM:611717',\n",
       " 'OMIM:275900',\n",
       " 'OMIM:614678',\n",
       " 'OMIM:245160',\n",
       " 'OMIM:300612',\n",
       " 'OMIM:130070',\n",
       " 'OMIM:617055',\n",
       " 'OMIM:255200',\n",
       " 'OMIM:604802',\n",
       " 'OMIM:617013',\n",
       " 'OMIM:617977',\n",
       " 'OMIM:607684',\n",
       " 'OMIM:617146',\n",
       " 'OMIM:256730',\n",
       " 'OMIM:233805',\n",
       " 'OMIM:607196',\n",
       " 'OMIM:615851',\n",
       " 'OMIM:618332',\n",
       " 'OMIM:613162',\n",
       " 'OMIM:607014',\n",
       " 'OMIM:242300',\n",
       " 'OMIM:618388',\n",
       " 'OMIM:300695',\n",
       " 'ORPHA:79408',\n",
       " 'ORPHA:357154',\n",
       " 'ORPHA:367',\n",
       " 'ORPHA:333',\n",
       " 'ORPHA:75840',\n",
       " 'ORPHA:137898',\n",
       " 'ORPHA:85212',\n",
       " 'ORPHA:87876',\n",
       " 'ORPHA:3206',\n",
       " 'ORPHA:2793',\n",
       " 'ORPHA:220386',\n",
       " 'ORPHA:220393',\n",
       " 'ORPHA:272',\n",
       " 'ORPHA:2850',\n",
       " 'ORPHA:267',\n",
       " 'ORPHA:258',\n",
       " 'ORPHA:2836',\n",
       " 'ORPHA:79503',\n",
       " 'ORPHA:231',\n",
       " 'ORPHA:209951',\n",
       " 'ORPHA:263463',\n",
       " 'ORPHA:481152',\n",
       " 'ORPHA:171719',\n",
       " 'ORPHA:99921',\n",
       " 'ORPHA:99947',\n",
       " 'ORPHA:1545',\n",
       " 'ORPHA:324442',\n",
       " 'ORPHA:144',\n",
       " 'ORPHA:141',\n",
       " 'ORPHA:93926',\n",
       " 'ORPHA:93924',\n",
       " 'ORPHA:93925',\n",
       " 'ORPHA:115',\n",
       " 'ORPHA:440713',\n",
       " 'ORPHA:98791',\n",
       " 'ORPHA:544503',\n",
       " 'ORPHA:95699',\n",
       " 'ORPHA:261552',\n",
       " 'ORPHA:261537',\n",
       " 'ORPHA:2590',\n",
       " 'ORPHA:261519',\n",
       " 'ORPHA:391372',\n",
       " 'ORPHA:98896',\n",
       " 'ORPHA:178148',\n",
       " 'ORPHA:3042',\n",
       " 'ORPHA:171436',\n",
       " 'ORPHA:171433',\n",
       " 'ORPHA:171430',\n",
       " 'ORPHA:171442',\n",
       " 'ORPHA:171439',\n",
       " 'ORPHA:2671',\n",
       " 'ORPHA:500055',\n",
       " 'ORPHA:1306',\n",
       " 'ORPHA:157946',\n",
       " 'ORPHA:157973',\n",
       " 'ORPHA:157965',\n",
       " 'ORPHA:77260',\n",
       " 'ORPHA:284979',\n",
       " 'ORPHA:284979',\n",
       " 'ORPHA:398073',\n",
       " 'ORPHA:398069',\n",
       " 'ORPHA:75496',\n",
       " 'ORPHA:206549',\n",
       " 'ORPHA:821',\n",
       " 'ORPHA:847',\n",
       " 'ORPHA:363454',\n",
       " 'ORPHA:90153',\n",
       " 'ORPHA:98905',\n",
       " 'ORPHA:1979',\n",
       " 'ORPHA:666',\n",
       " 'ORPHA:261290',\n",
       " 'ORPHA:682',\n",
       " 'ORPHA:612',\n",
       " 'ORPHA:435628',\n",
       " 'ORPHA:1194',\n",
       " 'ORPHA:353327',\n",
       " 'ORPHA:90289',\n",
       " 'ORPHA:77297',\n",
       " 'ORPHA:581',\n",
       " 'ORPHA:2908',\n",
       " 'ORPHA:500545',\n",
       " 'ORPHA:2148',\n",
       " 'ORPHA:536516',\n",
       " 'ORPHA:487796',\n",
       " 'ORPHA:440437',\n",
       " 'ORPHA:505248',\n",
       " 'ORPHA:536471']"
      ]
     },
     "execution_count": 6,
     "metadata": {},
     "output_type": "execute_result"
    }
   ],
   "source": [
    "l =HPO_DICT['HP:0001371']\n",
    "l"
   ]
  },
  {
   "cell_type": "code",
   "execution_count": 7,
   "metadata": {},
   "outputs": [
    {
     "name": "stdout",
     "output_type": "stream",
     "text": [
      "13\n"
     ]
    }
   ],
   "source": [
    "child_1 = HPO_DICT['HP:0005781']\n",
    "print (len(set(child_1)))"
   ]
  },
  {
   "cell_type": "code",
   "execution_count": 52,
   "metadata": {},
   "outputs": [],
   "source": [
    "new_list= ['HP:0001653', 'HP:0002097', 'HP:0005180', 'HP:0000268', 'HP:0000485', 'HP:0000768', 'HP:0000973', 'HP:0001083', 'HP:0001166', 'HP:0001181', 'HP:0001270', 'HP:0001371', 'HP:0001518', 'HP:0001634', 'HP:0001704', 'HP:0001713', 'HP:0002616', 'HP:0002643', 'HP:0003116', 'HP:0008124', 'HP:0008734', 'HP:0010511', 'HP:0011003', 'HP:0011968', 'HP:0012418', 'HP:0030148', 'HP:0100578', 'HP:0100625', 'HP:0100693', 'HP:0100807', 'HP:0000347', 'HP:0000369', 'HP:0000431', 'HP:0000490', 'HP:0000494', 'HP:0000592', 'HP:0001252', 'HP:0001265', 'HP:0001382', 'HP:0002705', 'HP:0009901', 'HP:0012771', 'HP:0000268', 'HP:0000347', 'HP:0000369', 'HP:0000431', 'HP:0000485', 'HP:0000494', 'HP:0000592', 'HP:0000768', 'HP:0000973', 'HP:0001083', 'HP:0001166', 'HP:0001181', 'HP:0001252', 'HP:0001265', 'HP:0001270', 'HP:0001371', 'HP:0001382', 'HP:0001518', 'HP:0001653', 'HP:0002097', 'HP:0002705', 'HP:0003116', 'HP:0005180', 'HP:0004970', 'HP:0100807', 'HP:0008124', 'HP:0008734', 'HP:0009901', 'HP:0010511', 'HP:0011003', 'HP:0011968', 'HP:0030148', 'HP:0100578', 'HP:0100625', 'HP:0100693']"
   ]
  },
  {
   "cell_type": "code",
   "execution_count": 54,
   "metadata": {},
   "outputs": [
    {
     "data": {
      "text/plain": [
       "{'HP:0000268',\n",
       " 'HP:0000347',\n",
       " 'HP:0000369',\n",
       " 'HP:0000431',\n",
       " 'HP:0000485',\n",
       " 'HP:0000490',\n",
       " 'HP:0000494',\n",
       " 'HP:0000592',\n",
       " 'HP:0000768',\n",
       " 'HP:0000973',\n",
       " 'HP:0001083',\n",
       " 'HP:0001166',\n",
       " 'HP:0001181',\n",
       " 'HP:0001252',\n",
       " 'HP:0001265',\n",
       " 'HP:0001270',\n",
       " 'HP:0001371',\n",
       " 'HP:0001382',\n",
       " 'HP:0001518',\n",
       " 'HP:0001634',\n",
       " 'HP:0001653',\n",
       " 'HP:0001704',\n",
       " 'HP:0001713',\n",
       " 'HP:0002097',\n",
       " 'HP:0002616',\n",
       " 'HP:0002643',\n",
       " 'HP:0002705',\n",
       " 'HP:0003116',\n",
       " 'HP:0004970',\n",
       " 'HP:0005180',\n",
       " 'HP:0008124',\n",
       " 'HP:0008734',\n",
       " 'HP:0009901',\n",
       " 'HP:0010511',\n",
       " 'HP:0011003',\n",
       " 'HP:0011968',\n",
       " 'HP:0012418',\n",
       " 'HP:0012771',\n",
       " 'HP:0030148',\n",
       " 'HP:0100578',\n",
       " 'HP:0100625',\n",
       " 'HP:0100693',\n",
       " 'HP:0100807'}"
      ]
     },
     "execution_count": 54,
     "metadata": {},
     "output_type": "execute_result"
    }
   ],
   "source": [
    "set(new_list)"
   ]
  },
  {
   "cell_type": "code",
   "execution_count": 55,
   "metadata": {},
   "outputs": [
    {
     "data": {
      "text/plain": [
       "{'HP:0001215',\n",
       " 'HP:0001220',\n",
       " 'HP:0001239',\n",
       " 'HP:0001771',\n",
       " 'HP:0001836',\n",
       " 'HP:0002803',\n",
       " 'HP:0002804',\n",
       " 'HP:0002828',\n",
       " 'HP:0002987',\n",
       " 'HP:0003044',\n",
       " 'HP:0003089',\n",
       " 'HP:0003121',\n",
       " 'HP:0003273',\n",
       " 'HP:0004631',\n",
       " 'HP:0005612',\n",
       " 'HP:0005617',\n",
       " 'HP:0005679',\n",
       " 'HP:0005684',\n",
       " 'HP:0005745',\n",
       " 'HP:0005750',\n",
       " 'HP:0005781',\n",
       " 'HP:0005830',\n",
       " 'HP:0005853',\n",
       " 'HP:0005876',\n",
       " 'HP:0005879',\n",
       " 'HP:0005997',\n",
       " 'HP:0006366',\n",
       " 'HP:0006380',\n",
       " 'HP:0006466',\n",
       " 'HP:0008112',\n",
       " 'HP:0008366',\n",
       " 'HP:0009183',\n",
       " 'HP:0009184',\n",
       " 'HP:0009185',\n",
       " 'HP:0009186',\n",
       " 'HP:0009274',\n",
       " 'HP:0009275',\n",
       " 'HP:0009276',\n",
       " 'HP:0009277',\n",
       " 'HP:0009319',\n",
       " 'HP:0009469',\n",
       " 'HP:0009470',\n",
       " 'HP:0009471',\n",
       " 'HP:0009473',\n",
       " 'HP:0009537',\n",
       " 'HP:0009538',\n",
       " 'HP:0009539',\n",
       " 'HP:0009540',\n",
       " 'HP:0009600',\n",
       " 'HP:0009624',\n",
       " 'HP:0009625',\n",
       " 'HP:0009626',\n",
       " 'HP:0009697',\n",
       " 'HP:0010212',\n",
       " 'HP:0010213',\n",
       " 'HP:0010214',\n",
       " 'HP:0010215',\n",
       " 'HP:0010327',\n",
       " 'HP:0010333',\n",
       " 'HP:0010339',\n",
       " 'HP:0010345',\n",
       " 'HP:0012385',\n",
       " 'HP:0012453',\n",
       " 'HP:0012454',\n",
       " 'HP:0012785',\n",
       " 'HP:0030044',\n",
       " 'HP:0030233',\n",
       " 'HP:0030675',\n",
       " 'HP:0100348',\n",
       " 'HP:0100349',\n",
       " 'HP:0100350',\n",
       " 'HP:0100351',\n",
       " 'HP:0100352',\n",
       " 'HP:0100353',\n",
       " 'HP:0100354',\n",
       " 'HP:0100355',\n",
       " 'HP:0100356',\n",
       " 'HP:0100357',\n",
       " 'HP:0100358',\n",
       " 'HP:0100359',\n",
       " 'HP:0100360',\n",
       " 'HP:0100490',\n",
       " 'HP:0100492'}"
      ]
     },
     "execution_count": 55,
     "metadata": {},
     "output_type": "execute_result"
    }
   ],
   "source": [
    "graph.get_descendants('HP:0001371')"
   ]
  },
  {
   "cell_type": "code",
   "execution_count": 56,
   "metadata": {},
   "outputs": [
    {
     "data": {
      "text/plain": [
       "set()"
      ]
     },
     "execution_count": 56,
     "metadata": {},
     "output_type": "execute_result"
    }
   ],
   "source": [
    "set(new_list).intersection(set(graph.get_descendants('HP:0001371')))"
   ]
  },
  {
   "cell_type": "code",
   "execution_count": 29,
   "metadata": {
    "scrolled": false
   },
   "outputs": [
    {
     "data": {
      "text/plain": [
       "['OMIM:616227',\n",
       " 'OMIM:618143',\n",
       " 'OMIM:305450',\n",
       " 'OMIM:301830',\n",
       " 'OMIM:306990',\n",
       " 'OMIM:611369',\n",
       " 'OMIM:300244',\n",
       " 'OMIM:218649',\n",
       " 'OMIM:614915',\n",
       " 'OMIM:605013',\n",
       " 'ORPHA:370968',\n",
       " 'ORPHA:447997',\n",
       " 'ORPHA:51',\n",
       " 'ORPHA:33364',\n",
       " 'ORPHA:486815',\n",
       " 'ORPHA:352470',\n",
       " 'ORPHA:85319',\n",
       " 'ORPHA:504476',\n",
       " 'ORPHA:994',\n",
       " 'ORPHA:96170',\n",
       " 'ORPHA:2570',\n",
       " 'ORPHA:3056',\n",
       " 'ORPHA:916',\n",
       " 'ORPHA:157954',\n",
       " 'ORPHA:324604',\n",
       " 'ORPHA:264450',\n",
       " 'ORPHA:363429',\n",
       " 'ORPHA:98911',\n",
       " 'ORPHA:424107',\n",
       " 'ORPHA:610',\n",
       " 'ORPHA:320406',\n",
       " 'ORPHA:100976',\n",
       " 'ORPHA:466934',\n",
       " 'ORPHA:2959',\n",
       " 'ORPHA:597',\n",
       " 'ORPHA:464306',\n",
       " 'ORPHA:521406',\n",
       " 'ORPHA:536516',\n",
       " 'ORPHA:468631',\n",
       " 'ORPHA:1662',\n",
       " 'ORPHA:79318',\n",
       " 'ORPHA:536471']"
      ]
     },
     "execution_count": 29,
     "metadata": {},
     "output_type": "execute_result"
    }
   ],
   "source": [
    "HPO_DICT['HP:0002828']"
   ]
  },
  {
   "cell_type": "markdown",
   "metadata": {},
   "source": [
    "## Finding decendants for particular Phenotype"
   ]
  },
  {
   "cell_type": "code",
   "execution_count": 46,
   "metadata": {},
   "outputs": [
    {
     "name": "stdout",
     "output_type": "stream",
     "text": [
      "set()\n",
      "{'HP:0010212', 'HP:0010214', 'HP:0010215', 'HP:0010327', 'HP:0100357', 'HP:0002987', 'HP:0001239', 'HP:0100348', 'HP:0001215', 'HP:0010333', 'HP:0001836', 'HP:0005781', 'HP:0009184', 'HP:0005750', 'HP:0010345', 'HP:0002828', 'HP:0100352', 'HP:0009624', 'HP:0100358', 'HP:0100356', 'HP:0005876', 'HP:0100354', 'HP:0003089', 'HP:0100360', 'HP:0008366', 'HP:0009540', 'HP:0012454', 'HP:0009469', 'HP:0009186', 'HP:0100353', 'HP:0009185', 'HP:0008112', 'HP:0012785', 'HP:0010339', 'HP:0009600', 'HP:0005830', 'HP:0006380', 'HP:0009626', 'HP:0009473', 'HP:0003121', 'HP:0009625', 'HP:0005879', 'HP:0005997', 'HP:0100350', 'HP:0010213', 'HP:0004631', 'HP:0030233', 'HP:0009277', 'HP:0009274', 'HP:0009537', 'HP:0100492', 'HP:0009319', 'HP:0030675', 'HP:0100349', 'HP:0005853', 'HP:0100351', 'HP:0009276', 'HP:0009470', 'HP:0006366', 'HP:0003044', 'HP:0005745', 'HP:0005617', 'HP:0002804', 'HP:0009538', 'HP:0009697', 'HP:0005612', 'HP:0100359', 'HP:0006466', 'HP:0005684', 'HP:0012453', 'HP:0009471', 'HP:0100355', 'HP:0003273', 'HP:0001771', 'HP:0009539', 'HP:0009275', 'HP:0030044', 'HP:0009183', 'HP:0012385', 'HP:0001220', 'HP:0002803', 'HP:0100490', 'HP:0005679'}\n"
     ]
    }
   ],
   "source": [
    "print (graph.get_descendants('HP:0002828'))\n",
    "print (graph.get_descendants('HP:0001371'))"
   ]
  },
  {
   "cell_type": "code",
   "execution_count": null,
   "metadata": {},
   "outputs": [],
   "source": []
  },
  {
   "cell_type": "markdown",
   "metadata": {},
   "source": [
    "## Finding information content for particular Phenotype"
   ]
  },
  {
   "cell_type": "code",
   "execution_count": 9,
   "metadata": {},
   "outputs": [
    {
     "data": {
      "text/plain": [
       "0"
      ]
     },
     "execution_count": 9,
     "metadata": {},
     "output_type": "execute_result"
    }
   ],
   "source": [
    "graph.calculate_information_content('HP:0001372')"
   ]
  },
  {
   "cell_type": "code",
   "execution_count": 32,
   "metadata": {},
   "outputs": [
    {
     "data": {
      "text/plain": [
       "{'OMIM:218649',\n",
       " 'OMIM:300244',\n",
       " 'OMIM:301830',\n",
       " 'OMIM:305450',\n",
       " 'OMIM:306990',\n",
       " 'OMIM:605013',\n",
       " 'OMIM:611369',\n",
       " 'OMIM:614915',\n",
       " 'OMIM:616227',\n",
       " 'OMIM:618143',\n",
       " 'ORPHA:100976',\n",
       " 'ORPHA:157954',\n",
       " 'ORPHA:1662',\n",
       " 'ORPHA:2570',\n",
       " 'ORPHA:264450',\n",
       " 'ORPHA:2959',\n",
       " 'ORPHA:3056',\n",
       " 'ORPHA:320406',\n",
       " 'ORPHA:324604',\n",
       " 'ORPHA:33364',\n",
       " 'ORPHA:352470',\n",
       " 'ORPHA:363429',\n",
       " 'ORPHA:370968',\n",
       " 'ORPHA:424107',\n",
       " 'ORPHA:447997',\n",
       " 'ORPHA:464306',\n",
       " 'ORPHA:466934',\n",
       " 'ORPHA:468631',\n",
       " 'ORPHA:486815',\n",
       " 'ORPHA:504476',\n",
       " 'ORPHA:51',\n",
       " 'ORPHA:521406',\n",
       " 'ORPHA:536471',\n",
       " 'ORPHA:536516',\n",
       " 'ORPHA:597',\n",
       " 'ORPHA:610',\n",
       " 'ORPHA:79318',\n",
       " 'ORPHA:85319',\n",
       " 'ORPHA:916',\n",
       " 'ORPHA:96170',\n",
       " 'ORPHA:98911',\n",
       " 'ORPHA:994'}"
      ]
     },
     "execution_count": 32,
     "metadata": {},
     "output_type": "execute_result"
    }
   ],
   "source": [
    "graph.get_ids_per_term('HP:0002828')"
   ]
  },
  {
   "cell_type": "code",
   "execution_count": 33,
   "metadata": {},
   "outputs": [
    {
     "data": {
      "text/plain": [
       "42"
      ]
     },
     "execution_count": 33,
     "metadata": {},
     "output_type": "execute_result"
    }
   ],
   "source": [
    "graph.get_term_count('HP:0002828')"
   ]
  },
  {
   "cell_type": "markdown",
   "metadata": {},
   "source": [
    "# Lin Score calculation"
   ]
  },
  {
   "cell_type": "code",
   "execution_count": 34,
   "metadata": {},
   "outputs": [],
   "source": [
    "def lin_score(term1, term2):\n",
    "    a = graph.calculate_information_content(term1)\n",
    "    b = graph.calculate_information_content(term2)\n",
    "    c = 2*graph.get_most_informative_ic(term1,term2)\n",
    "    print (\"##@@\",a,b,c)\n",
    "    try:\n",
    "        lin_score = c/(b + a)\n",
    "    except ZeroDivisionError:\n",
    "        lin_score = 0\n",
    "    return lin_score"
   ]
  },
  {
   "cell_type": "code",
   "execution_count": 35,
   "metadata": {},
   "outputs": [
    {
     "name": "stdout",
     "output_type": "stream",
     "text": [
      "## 135 11757\n",
      "##@@ 4.466929308429312 5.634534468584373 4.9329016211125545\n"
     ]
    },
    {
     "data": {
      "text/plain": [
       "0.4883353274341868"
      ]
     },
     "execution_count": 35,
     "metadata": {},
     "output_type": "execute_result"
    }
   ],
   "source": [
    "lin_score('HP:0002804', 'HP:0002828')"
   ]
  },
  {
   "cell_type": "code",
   "execution_count": 16,
   "metadata": {},
   "outputs": [],
   "source": [
    "def calculate_max_lin_score(hpo_graph, n, T):\n",
    "    #print (n)\n",
    "    try:\n",
    "        b = hpo_graph.calculate_information_content(n)\n",
    "    except ValueError:\n",
    "        #print (n)\n",
    "        return 0\n",
    "    temp = []\n",
    "    for i in T:\n",
    "        a = 2 * hpo_graph.get_most_informative_ic(n, i)\n",
    "        try:\n",
    "            c = hpo_graph.calculate_information_content(i)\n",
    "        except ValueError:\n",
    "            c=0\n",
    "        print(a, b, c)\n",
    "        \n",
    "        try:\n",
    "            lin_score = a/(b + c)\n",
    "        except ZeroDivisionError:\n",
    "            lin_score = 0\n",
    "        \n",
    "        temp.append(lin_score)\n",
    "    \n",
    "    print (temp)\n",
    "    temp_max= max(temp) \n",
    "    if (temp_max<0):\n",
    "        temp_max=0.001\n",
    "    return temp_max, temp.index(temp_max)"
   ]
  },
  {
   "cell_type": "code",
   "execution_count": 17,
   "metadata": {},
   "outputs": [
    {
     "name": "stdout",
     "output_type": "stream",
     "text": [
      "## 13 11757\n",
      "4.9329016211125545 6.807254729406204 5.634534468584373\n",
      "[0.3964784760948407]\n"
     ]
    }
   ],
   "source": [
    "z,x = calculate_max_lin_score(graph,'HP:0005781', ['HP:0002828'])"
   ]
  },
  {
   "cell_type": "code",
   "execution_count": 18,
   "metadata": {},
   "outputs": [
    {
     "name": "stdout",
     "output_type": "stream",
     "text": [
      "0.3964784760948407 0\n"
     ]
    }
   ],
   "source": [
    "print (z,x)"
   ]
  },
  {
   "cell_type": "code",
   "execution_count": 19,
   "metadata": {},
   "outputs": [],
   "source": [
    "import pickle\n",
    "graph1 = pickle.load(open(\"phenotype_graph.pickle\", \"rb\"))\n",
    "graph2 = pickle.load(open(\"graph_object.pickle\", \"rb\"))"
   ]
  },
  {
   "cell_type": "code",
   "execution_count": 20,
   "metadata": {},
   "outputs": [
    {
     "name": "stdout",
     "output_type": "stream",
     "text": [
      "## 42 11757\n"
     ]
    },
    {
     "data": {
      "text/plain": [
       "5.634534468584373"
      ]
     },
     "execution_count": 20,
     "metadata": {},
     "output_type": "execute_result"
    }
   ],
   "source": [
    "graph1.calculate_information_content('HP:0002828')"
   ]
  },
  {
   "cell_type": "code",
   "execution_count": 21,
   "metadata": {},
   "outputs": [
    {
     "name": "stdout",
     "output_type": "stream",
     "text": [
      "## 42 11757\n"
     ]
    },
    {
     "data": {
      "text/plain": [
       "5.634534468584373"
      ]
     },
     "execution_count": 21,
     "metadata": {},
     "output_type": "execute_result"
    }
   ],
   "source": [
    "graph2.calculate_information_content('HP:0002828')"
   ]
  },
  {
   "cell_type": "code",
   "execution_count": null,
   "metadata": {},
   "outputs": [],
   "source": []
  }
 ],
 "metadata": {
  "kernelspec": {
   "display_name": "Python 3",
   "language": "python",
   "name": "python3"
  },
  "language_info": {
   "codemirror_mode": {
    "name": "ipython",
    "version": 3
   },
   "file_extension": ".py",
   "mimetype": "text/x-python",
   "name": "python",
   "nbconvert_exporter": "python",
   "pygments_lexer": "ipython3",
   "version": "3.8.8"
  }
 },
 "nbformat": 4,
 "nbformat_minor": 4
}
