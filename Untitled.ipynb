{
 "cells": [
  {
   "cell_type": "code",
   "execution_count": 4,
   "id": "0e720108",
   "metadata": {},
   "outputs": [],
   "source": [
    "from __future__ import division\n",
    "import pandas as pd\n",
    "import numpy as np\n",
    "import collections"
   ]
  },
  {
   "cell_type": "code",
   "execution_count": 3,
   "id": "7f3f99f7",
   "metadata": {},
   "outputs": [
    {
     "data": {
      "text/html": [
       "<div>\n",
       "<style scoped>\n",
       "    .dataframe tbody tr th:only-of-type {\n",
       "        vertical-align: middle;\n",
       "    }\n",
       "\n",
       "    .dataframe tbody tr th {\n",
       "        vertical-align: top;\n",
       "    }\n",
       "\n",
       "    .dataframe thead th {\n",
       "        text-align: right;\n",
       "    }\n",
       "</style>\n",
       "<table border=\"1\" class=\"dataframe\">\n",
       "  <thead>\n",
       "    <tr style=\"text-align: right;\">\n",
       "      <th></th>\n",
       "      <th>Sentence</th>\n",
       "      <th>Ancestor</th>\n",
       "      <th>Ranking</th>\n",
       "    </tr>\n",
       "  </thead>\n",
       "  <tbody>\n",
       "    <tr>\n",
       "      <th>0</th>\n",
       "      <td>Any anomaly of cell structure.</td>\n",
       "      <td>HP:0025354</td>\n",
       "      <td>1</td>\n",
       "    </tr>\n",
       "    <tr>\n",
       "      <th>1</th>\n",
       "      <td>An unpleasant sensation of tightness or pressu...</td>\n",
       "      <td>HP:0025142</td>\n",
       "      <td>4</td>\n",
       "    </tr>\n",
       "    <tr>\n",
       "      <th>2</th>\n",
       "      <td>An abnormality of the neck.</td>\n",
       "      <td>HP:0000152</td>\n",
       "      <td>4</td>\n",
       "    </tr>\n",
       "    <tr>\n",
       "      <th>3</th>\n",
       "      <td>The presence of an infectious agent in the blo...</td>\n",
       "      <td>HP:0001939</td>\n",
       "      <td>4</td>\n",
       "    </tr>\n",
       "    <tr>\n",
       "      <th>4</th>\n",
       "      <td>An abnormality of the process of blood coagula...</td>\n",
       "      <td>HP:0001871</td>\n",
       "      <td>3</td>\n",
       "    </tr>\n",
       "    <tr>\n",
       "      <th>5</th>\n",
       "      <td>Impairment in the physical production of speec...</td>\n",
       "      <td>HP:0001608</td>\n",
       "      <td>10</td>\n",
       "    </tr>\n",
       "    <tr>\n",
       "      <th>6</th>\n",
       "      <td>The percentage of fat as a part of total body ...</td>\n",
       "      <td>HP:0001507</td>\n",
       "      <td>11</td>\n",
       "    </tr>\n",
       "    <tr>\n",
       "      <th>7</th>\n",
       "      <td>An altered ability of any enzyme or their cofa...</td>\n",
       "      <td>HP:0001939</td>\n",
       "      <td>14</td>\n",
       "    </tr>\n",
       "    <tr>\n",
       "      <th>8</th>\n",
       "      <td>An altered ability of any enzyme or their cofa...</td>\n",
       "      <td>HP:0001940</td>\n",
       "      <td>14</td>\n",
       "    </tr>\n",
       "    <tr>\n",
       "      <th>9</th>\n",
       "      <td>An altered ability of any enzyme or their cofa...</td>\n",
       "      <td>HP:0001941</td>\n",
       "      <td>15</td>\n",
       "    </tr>\n",
       "  </tbody>\n",
       "</table>\n",
       "</div>"
      ],
      "text/plain": [
       "                                            Sentence    Ancestor  Ranking\n",
       "0                     Any anomaly of cell structure.  HP:0025354        1\n",
       "1  An unpleasant sensation of tightness or pressu...  HP:0025142        4\n",
       "2                        An abnormality of the neck.  HP:0000152        4\n",
       "3  The presence of an infectious agent in the blo...  HP:0001939        4\n",
       "4  An abnormality of the process of blood coagula...  HP:0001871        3\n",
       "5  Impairment in the physical production of speec...  HP:0001608       10\n",
       "6  The percentage of fat as a part of total body ...  HP:0001507       11\n",
       "7  An altered ability of any enzyme or their cofa...  HP:0001939       14\n",
       "8  An altered ability of any enzyme or their cofa...  HP:0001940       14\n",
       "9  An altered ability of any enzyme or their cofa...  HP:0001941       15"
      ]
     },
     "execution_count": 3,
     "metadata": {},
     "output_type": "execute_result"
    }
   ],
   "source": [
    "df = pd.read_csv(\"ancestor_rank.csv\")\n",
    "df"
   ]
  },
  {
   "cell_type": "code",
   "execution_count": 5,
   "id": "d15cbcd4",
   "metadata": {},
   "outputs": [
    {
     "data": {
      "text/plain": [
       "[1, 4, 4, 4, 3, 10, 11, 14, 14, 15]"
      ]
     },
     "execution_count": 5,
     "metadata": {},
     "output_type": "execute_result"
    }
   ],
   "source": [
    "col_one_list = df['Ranking'].tolist()\n",
    "col_one_list"
   ]
  },
  {
   "cell_type": "code",
   "execution_count": 10,
   "id": "32b8cc5d",
   "metadata": {},
   "outputs": [
    {
     "data": {
      "text/plain": [
       "Counter({1: 1, 4: 3, 3: 1, 10: 1, 11: 1, 14: 2, 15: 1})"
      ]
     },
     "execution_count": 10,
     "metadata": {},
     "output_type": "execute_result"
    }
   ],
   "source": [
    "new_dict = collections.Counter(col_one_list)\n",
    "new_dict"
   ]
  },
  {
   "cell_type": "code",
   "execution_count": 11,
   "id": "368276d2",
   "metadata": {},
   "outputs": [
    {
     "name": "stdout",
     "output_type": "stream",
     "text": [
      "(1, 1)\n",
      "(3, 1)\n",
      "(4, 3)\n",
      "(10, 1)\n",
      "(11, 1)\n",
      "(14, 2)\n",
      "(15, 1)\n"
     ]
    }
   ],
   "source": [
    "for i in sorted (new_dict):\n",
    "    print ((i, new_dict[i]))"
   ]
  },
  {
   "cell_type": "code",
   "execution_count": null,
   "id": "debc4ed6",
   "metadata": {},
   "outputs": [],
   "source": []
  }
 ],
 "metadata": {
  "kernelspec": {
   "display_name": "Python 3",
   "language": "python",
   "name": "python3"
  },
  "language_info": {
   "codemirror_mode": {
    "name": "ipython",
    "version": 3
   },
   "file_extension": ".py",
   "mimetype": "text/x-python",
   "name": "python",
   "nbconvert_exporter": "python",
   "pygments_lexer": "ipython3",
   "version": "3.8.8"
  }
 },
 "nbformat": 4,
 "nbformat_minor": 5
}
